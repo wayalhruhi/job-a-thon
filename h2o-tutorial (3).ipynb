{
 "cells": [
  {
   "cell_type": "code",
   "execution_count": 1,
   "metadata": {
    "_cell_guid": "b1076dfc-b9ad-4769-8c92-a6c4dae69d19",
    "_kg_hide-input": true,
    "_uuid": "8f2839f25d086af736a60e9eeb907d3b93b6e0e5",
    "execution": {
     "iopub.execute_input": "2021-03-01T04:05:27.343455Z",
     "iopub.status.busy": "2021-03-01T04:05:27.342746Z",
     "iopub.status.idle": "2021-03-01T04:05:30.032584Z",
     "shell.execute_reply": "2021-03-01T04:05:30.033129Z"
    },
    "papermill": {
     "duration": 2.725558,
     "end_time": "2021-03-01T04:05:30.033476",
     "exception": false,
     "start_time": "2021-03-01T04:05:27.307918",
     "status": "completed"
    },
    "tags": []
   },
   "outputs": [
    {
     "data": {
      "text/html": [
       "<style type='text/css'>\n",
       ".datatable table.frame { margin-bottom: 0; }\n",
       ".datatable table.frame thead { border-bottom: none; }\n",
       ".datatable table.frame tr.coltypes td {  color: #FFFFFF;  line-height: 6px;  padding: 0 0.5em;}\n",
       ".datatable .bool    { background: #DDDD99; }\n",
       ".datatable .object  { background: #565656; }\n",
       ".datatable .int     { background: #5D9E5D; }\n",
       ".datatable .float   { background: #4040CC; }\n",
       ".datatable .str     { background: #CC4040; }\n",
       ".datatable .row_index {  background: var(--jp-border-color3);  border-right: 1px solid var(--jp-border-color0);  color: var(--jp-ui-font-color3);  font-size: 9px;}\n",
       ".datatable .frame tr.coltypes .row_index {  background: var(--jp-border-color0);}\n",
       ".datatable th:nth-child(2) { padding-left: 12px; }\n",
       ".datatable .hellipsis {  color: var(--jp-cell-editor-border-color);}\n",
       ".datatable .vellipsis {  background: var(--jp-layout-color0);  color: var(--jp-cell-editor-border-color);}\n",
       ".datatable .na {  color: var(--jp-cell-editor-border-color);  font-size: 80%;}\n",
       ".datatable .footer { font-size: 9px; }\n",
       ".datatable .frame_dimensions {  background: var(--jp-border-color3);  border-top: 1px solid var(--jp-border-color0);  color: var(--jp-ui-font-color3);  display: inline-block;  opacity: 0.6;  padding: 1px 10px 1px 5px;}\n",
       "</style>\n"
      ],
      "text/plain": [
       "<IPython.core.display.HTML object>"
      ]
     },
     "metadata": {},
     "output_type": "display_data"
    }
   ],
   "source": [
    "\n",
    "import numpy as np # linear algebra\n",
    "import pandas as pd # data processing, CSV file I/O (e.g. pd.read_csv)\n",
    "import seaborn as sns\n",
    "import lightgbm as lgb\n",
    "import matplotlib.pyplot as plt\n",
    "%matplotlib inline\n",
    "\n",
    "from sklearn.metrics import roc_auc_score\n",
    "from catboost import CatBoostClassifier\n",
    "\n",
    "import altair as alt\n",
    "from altair.vega import v5\n",
    "from IPython.display import HTML\n",
    "from sklearn import preprocessing\n",
    "from tqdm.notebook import tqdm\n",
    "import lightgbm as lgb\n",
    "import numpy as np\n",
    "import pandas as pd\n",
    "import lightgbm as lgb\n",
    "import glob\n",
    "import os\n",
    "import sklearn.datasets\n",
    "import sklearn.metrics\n",
    "from sklearn.model_selection import train_test_split\n",
    "from sklearn.preprocessing import LabelEncoder \n",
    "from tqdm.notebook import tqdm\n",
    "import optuna\n",
    "\n",
    "import gc, datetime, random\n",
    "\n",
    "from sklearn.preprocessing import MultiLabelBinarizer\n",
    "from sklearn.preprocessing import LabelEncoder\n",
    "from sklearn.impute import SimpleImputer\n",
    "from collections import defaultdict, Counter\n",
    "\n",
    "from sklearn.base import BaseEstimator, TransformerMixin\n",
    "from sklearn.pipeline import Pipeline, FeatureUnion\n",
    "from sklearn.preprocessing import StandardScaler\n",
    "from sklearn.model_selection import cross_val_score\n",
    "from sklearn.tree import DecisionTreeClassifier\n",
    "from sklearn.linear_model import LogisticRegression\n",
    "from sklearn.svm import SVC, LinearSVC\n",
    "from sklearn.ensemble import RandomForestClassifier\n",
    "from sklearn.model_selection import StratifiedKFold, KFold, RepeatedKFold, GroupKFold, GridSearchCV, train_test_split, TimeSeriesSplit\n",
    "from sklearn.model_selection import StratifiedKFold\n",
    "\n",
    "import warnings\n",
    "warnings.filterwarnings(\"ignore\")"
   ]
  },
  {
   "cell_type": "markdown",
   "metadata": {
    "papermill": {
     "duration": 0.030481,
     "end_time": "2021-03-01T04:05:30.095821",
     "exception": false,
     "start_time": "2021-03-01T04:05:30.065340",
     "status": "completed"
    },
    "tags": []
   },
   "source": [
    "# helper funcs"
   ]
  },
  {
   "cell_type": "code",
   "execution_count": 2,
   "metadata": {
    "execution": {
     "iopub.execute_input": "2021-03-01T04:05:30.162324Z",
     "iopub.status.busy": "2021-03-01T04:05:30.161668Z",
     "iopub.status.idle": "2021-03-01T04:05:30.177371Z",
     "shell.execute_reply": "2021-03-01T04:05:30.177935Z"
    },
    "papermill": {
     "duration": 0.050098,
     "end_time": "2021-03-01T04:05:30.178157",
     "exception": false,
     "start_time": "2021-03-01T04:05:30.128059",
     "status": "completed"
    },
    "tags": []
   },
   "outputs": [],
   "source": [
    "\n",
    "def reduce_mem(df, verbose=False):\n",
    "    numerics = ['int16', 'int32', 'int64', 'float16', 'float32', 'float64']\n",
    "    start_mem = df.memory_usage().sum() / 1024**2    \n",
    "    for col in df.columns:\n",
    "        col_type = df[col].dtypes\n",
    "        if col_type in numerics:\n",
    "            c_min = df[col].min()\n",
    "            c_max = df[col].max()\n",
    "            if str(col_type)[:3] == 'int':\n",
    "                if c_min > np.iinfo(np.int8).min and c_max < np.iinfo(np.int8).max:\n",
    "                    df[col] = df[col].astype(np.int8)\n",
    "                elif c_min > np.iinfo(np.int16).min and c_max < np.iinfo(np.int16).max:\n",
    "                    df[col] = df[col].astype(np.int16)\n",
    "                elif c_min > np.iinfo(np.int32).min and c_max < np.iinfo(np.int32).max:\n",
    "                    df[col] = df[col].astype(np.int32)\n",
    "                elif c_min > np.iinfo(np.int64).min and c_max < np.iinfo(np.int64).max:\n",
    "                    df[col] = df[col].astype(np.int64)  \n",
    "            else:\n",
    "                if c_min > np.finfo(np.float16).min and c_max < np.finfo(np.float16).max:\n",
    "                    df[col] = df[col].astype(np.float16)\n",
    "                elif c_min > np.finfo(np.float32).min and c_max < np.finfo(np.float32).max:\n",
    "                    df[col] = df[col].astype(np.float32)\n",
    "                else:\n",
    "                    df[col] = df[col].astype(np.float64)    \n",
    "    end_mem = df.memory_usage().sum() / 1024**2\n",
    "    if verbose: print('Mem. usage decreased to {:5.2f} Mb ({:.1f}% reduction)'.format(end_mem, 100 * (start_mem - end_mem) / start_mem))\n",
    "    return df\n",
    "\n",
    "def reduce_mem_usage(df, verbose=False):\n",
    "    return reduce_mem(df, verbose=verbose)\n"
   ]
  },
  {
   "cell_type": "code",
   "execution_count": 3,
   "metadata": {
    "execution": {
     "iopub.execute_input": "2021-03-01T04:05:30.246700Z",
     "iopub.status.busy": "2021-03-01T04:05:30.245596Z",
     "iopub.status.idle": "2021-03-01T04:05:30.259586Z",
     "shell.execute_reply": "2021-03-01T04:05:30.258979Z"
    },
    "papermill": {
     "duration": 0.049595,
     "end_time": "2021-03-01T04:05:30.259775",
     "exception": false,
     "start_time": "2021-03-01T04:05:30.210180",
     "status": "completed"
    },
    "tags": []
   },
   "outputs": [],
   "source": [
    "def preprocess1(df, train_flag):\n",
    "#     cat_cols = cat_cols\n",
    "    cat_cols = ['City_Code', 'Region_Code', 'Accomodation_Type',\n",
    "       'Reco_Insurance_Type', 'Upper_Age', 'Lower_Age', 'Is_Spouse',\n",
    "       'Health Indicator', 'Holding_Policy_Duration', 'Holding_Policy_Type',\n",
    "       'Reco_Policy_Cat']\n",
    "    cate_cols = cat_cols\n",
    "    feature_key = cat_cols\n",
    "    feature_target = cat_cols\n",
    "    for f in tqdm(cate_cols):\n",
    "        map_dict = dict(zip(df[f].unique(), range(df[f].nunique())))\n",
    "        df[f + '_count'] = df[f].map(df[f].value_counts())\n",
    "    df = reduce_mem(df)\n",
    "    ##########################groupby feature#######################\n",
    "    def group_fea(df,key,target):\n",
    "        tmp = df.groupby(key, as_index=False)[target].agg({\n",
    "            key+'_'+target + '_nunique': 'nunique',\n",
    "        }).reset_index()\n",
    "        del tmp['index']\n",
    "        return tmp\n",
    "\n",
    "    for key in tqdm(feature_key):\n",
    "        for target in feature_target:\n",
    "            tmp = group_fea(df,key,target)\n",
    "            df = df.merge(tmp,on=key,how='left')\n",
    "            \n",
    "            \n",
    "    #统计做了groupby特征的特征\n",
    "    group_list = []\n",
    "    for s in df.columns:\n",
    "        if '_nunique' in s:\n",
    "            group_list.append(s)\n",
    "    #print(group_list)\n",
    "    return df, group_list\n",
    "\n",
    "def preprocess(train_df, test_df, num_clusters=10):\n",
    "\n",
    "    cat_cols = ['City_Code', 'Region_Code', 'Accomodation_Type',\n",
    "       'Reco_Insurance_Type', 'Upper_Age', 'Lower_Age', 'Is_Spouse',\n",
    "       'Health Indicator', 'Holding_Policy_Duration', 'Holding_Policy_Type',\n",
    "       'Reco_Policy_Cat']\n",
    "    enc_list=[]\n",
    "    \n",
    "    \n",
    "    \n",
    "#     test_df, _ = preprocess1(test_df, 0)\n",
    "#     train_df, group_list = preprocess1(train_df.copy(), 1)\n",
    "    \n",
    "#     skf = StratifiedKFold(n_splits=3, shuffle=True, random_state=2020)\n",
    "#     enc_list = group_list + cat_cols\n",
    "    \n",
    "#     for f in tqdm(enc_list):\n",
    "#         if len(train_df[f].unique()) > len(train_df)//100:\n",
    "#             print(\"f \", f)\n",
    "#             continue\n",
    "#         train_df[f + '_target_enc'] = 0\n",
    "#         test_df[f + '_target_enc'] = 0\n",
    "#         for i, (trn_idx, val_idx) in enumerate(skf.split(train_df, train_df['label'])):\n",
    "#             trn_x = train_df[[f, 'label']].iloc[trn_idx].reset_index(drop=True)\n",
    "#             val_x = train_df[[f]].iloc[val_idx].reset_index(drop=True)\n",
    "#             enc_df = trn_x.groupby(f, as_index=False)['label'].agg({f + '_target_enc': 'mean'})\n",
    "#             val_x = val_x.merge(enc_df, on=f, how='left')\n",
    "#             test_x = test_df[[f]].merge(enc_df, on=f, how='left')\n",
    "#             val_x[f + '_target_enc'] = val_x[f + '_target_enc'].fillna(train_df['label'].mean())\n",
    "#             test_x[f + '_target_enc'] = test_x[f + '_target_enc'].fillna(train_df['label'].mean())\n",
    "#             train_df.loc[val_idx, f + '_target_enc'] = val_x[f + '_target_enc'].values\n",
    "#             test_df[f + '_target_enc'] += test_x[f + '_target_enc'].values / skf.n_splits\n",
    "#             gc.collect()\n",
    "#         gc.collect()\n",
    "        \n",
    "    return train_df.reset_index(drop=True), test_df.reset_index(drop=True), enc_list\n"
   ]
  },
  {
   "cell_type": "code",
   "execution_count": 4,
   "metadata": {
    "execution": {
     "iopub.execute_input": "2021-03-01T04:05:30.330221Z",
     "iopub.status.busy": "2021-03-01T04:05:30.329559Z",
     "iopub.status.idle": "2021-03-01T04:05:30.650137Z",
     "shell.execute_reply": "2021-03-01T04:05:30.649550Z"
    },
    "papermill": {
     "duration": 0.358687,
     "end_time": "2021-03-01T04:05:30.650306",
     "exception": false,
     "start_time": "2021-03-01T04:05:30.291619",
     "status": "completed"
    },
    "tags": []
   },
   "outputs": [
    {
     "data": {
      "text/html": [
       "<div>\n",
       "<style scoped>\n",
       "    .dataframe tbody tr th:only-of-type {\n",
       "        vertical-align: middle;\n",
       "    }\n",
       "\n",
       "    .dataframe tbody tr th {\n",
       "        vertical-align: top;\n",
       "    }\n",
       "\n",
       "    .dataframe thead th {\n",
       "        text-align: right;\n",
       "    }\n",
       "</style>\n",
       "<table border=\"1\" class=\"dataframe\">\n",
       "  <thead>\n",
       "    <tr style=\"text-align: right;\">\n",
       "      <th></th>\n",
       "      <th>City_Code</th>\n",
       "      <th>Region_Code</th>\n",
       "      <th>Accomodation_Type</th>\n",
       "      <th>Reco_Insurance_Type</th>\n",
       "      <th>Upper_Age</th>\n",
       "      <th>Lower_Age</th>\n",
       "      <th>Is_Spouse</th>\n",
       "      <th>Health Indicator</th>\n",
       "      <th>Holding_Policy_Duration</th>\n",
       "      <th>Holding_Policy_Type</th>\n",
       "      <th>Reco_Policy_Cat</th>\n",
       "      <th>Reco_Policy_Premium</th>\n",
       "      <th>Response</th>\n",
       "    </tr>\n",
       "  </thead>\n",
       "  <tbody>\n",
       "    <tr>\n",
       "      <th>0</th>\n",
       "      <td>C3</td>\n",
       "      <td>3213</td>\n",
       "      <td>Rented</td>\n",
       "      <td>Individual</td>\n",
       "      <td>36</td>\n",
       "      <td>36</td>\n",
       "      <td>No</td>\n",
       "      <td>X1</td>\n",
       "      <td>14+</td>\n",
       "      <td>3.0</td>\n",
       "      <td>22</td>\n",
       "      <td>11628.0</td>\n",
       "      <td>0</td>\n",
       "    </tr>\n",
       "    <tr>\n",
       "      <th>1</th>\n",
       "      <td>C5</td>\n",
       "      <td>1117</td>\n",
       "      <td>Owned</td>\n",
       "      <td>Joint</td>\n",
       "      <td>75</td>\n",
       "      <td>22</td>\n",
       "      <td>No</td>\n",
       "      <td>X2</td>\n",
       "      <td>-1</td>\n",
       "      <td>-1.0</td>\n",
       "      <td>22</td>\n",
       "      <td>30510.0</td>\n",
       "      <td>0</td>\n",
       "    </tr>\n",
       "    <tr>\n",
       "      <th>2</th>\n",
       "      <td>C5</td>\n",
       "      <td>3732</td>\n",
       "      <td>Owned</td>\n",
       "      <td>Individual</td>\n",
       "      <td>32</td>\n",
       "      <td>32</td>\n",
       "      <td>No</td>\n",
       "      <td>-1</td>\n",
       "      <td>1.0</td>\n",
       "      <td>1.0</td>\n",
       "      <td>19</td>\n",
       "      <td>7450.0</td>\n",
       "      <td>1</td>\n",
       "    </tr>\n",
       "    <tr>\n",
       "      <th>3</th>\n",
       "      <td>C24</td>\n",
       "      <td>4378</td>\n",
       "      <td>Owned</td>\n",
       "      <td>Joint</td>\n",
       "      <td>52</td>\n",
       "      <td>48</td>\n",
       "      <td>No</td>\n",
       "      <td>X1</td>\n",
       "      <td>14+</td>\n",
       "      <td>3.0</td>\n",
       "      <td>19</td>\n",
       "      <td>17780.0</td>\n",
       "      <td>0</td>\n",
       "    </tr>\n",
       "    <tr>\n",
       "      <th>4</th>\n",
       "      <td>C8</td>\n",
       "      <td>2190</td>\n",
       "      <td>Rented</td>\n",
       "      <td>Individual</td>\n",
       "      <td>44</td>\n",
       "      <td>44</td>\n",
       "      <td>No</td>\n",
       "      <td>X2</td>\n",
       "      <td>3.0</td>\n",
       "      <td>1.0</td>\n",
       "      <td>16</td>\n",
       "      <td>10404.0</td>\n",
       "      <td>0</td>\n",
       "    </tr>\n",
       "  </tbody>\n",
       "</table>\n",
       "</div>"
      ],
      "text/plain": [
       "  City_Code  Region_Code Accomodation_Type Reco_Insurance_Type  Upper_Age  \\\n",
       "0        C3         3213            Rented          Individual         36   \n",
       "1        C5         1117             Owned               Joint         75   \n",
       "2        C5         3732             Owned          Individual         32   \n",
       "3       C24         4378             Owned               Joint         52   \n",
       "4        C8         2190            Rented          Individual         44   \n",
       "\n",
       "   Lower_Age Is_Spouse Health Indicator Holding_Policy_Duration  \\\n",
       "0         36        No               X1                     14+   \n",
       "1         22        No               X2                      -1   \n",
       "2         32        No               -1                     1.0   \n",
       "3         48        No               X1                     14+   \n",
       "4         44        No               X2                     3.0   \n",
       "\n",
       "   Holding_Policy_Type  Reco_Policy_Cat  Reco_Policy_Premium  Response  \n",
       "0                  3.0               22              11628.0         0  \n",
       "1                 -1.0               22              30510.0         0  \n",
       "2                  1.0               19               7450.0         1  \n",
       "3                  3.0               19              17780.0         0  \n",
       "4                  1.0               16              10404.0         0  "
      ]
     },
     "execution_count": 4,
     "metadata": {},
     "output_type": "execute_result"
    }
   ],
   "source": [
    "train = pd.read_csv(\"/kaggle/input/job-a-thon-rw/train_Df64byy.csv\")\n",
    "test = pd.read_csv(\"/kaggle/input/job-a-thon-rw/test_YCcRUnU.csv\")\n",
    "sub = pd.read_csv(\"/kaggle/input/job-a-thon-rw/sample_submission_QrCyCoT.csv\")\n",
    "sub['ID'] = test['ID']\n",
    "\n",
    "\n",
    "train = train.fillna(-1)\n",
    "test = test.fillna(-1)\n",
    "\n",
    "\n",
    "train = train.drop(['ID'], axis=1)\n",
    "test = test.drop(['ID'], axis=1)\n",
    "\n",
    "train.head()"
   ]
  },
  {
   "cell_type": "code",
   "execution_count": 5,
   "metadata": {
    "execution": {
     "iopub.execute_input": "2021-03-01T04:05:30.721009Z",
     "iopub.status.busy": "2021-03-01T04:05:30.720381Z",
     "iopub.status.idle": "2021-03-01T04:05:30.723251Z",
     "shell.execute_reply": "2021-03-01T04:05:30.723740Z"
    },
    "papermill": {
     "duration": 0.041435,
     "end_time": "2021-03-01T04:05:30.723957",
     "exception": false,
     "start_time": "2021-03-01T04:05:30.682522",
     "status": "completed"
    },
    "tags": []
   },
   "outputs": [],
   "source": [
    "nn = [\n",
    "# 'ID',\n",
    " 'City_Code',\n",
    " 'Region_Code',\n",
    " 'Accomodation_Type',\n",
    " 'Reco_Insurance_Type',\n",
    " 'Upper_Age',\n",
    " 'Lower_Age',\n",
    " 'Is_Spouse',\n",
    " 'Health Indicator',\n",
    " 'Holding_Policy_Duration',\n",
    " 'Holding_Policy_Type',\n",
    " 'Reco_Policy_Cat',\n",
    " 'Reco_Policy_Premium',\n",
    " 'label']\n",
    "\n",
    "target = 'label'\n",
    "train.columns = nn\n"
   ]
  },
  {
   "cell_type": "code",
   "execution_count": 6,
   "metadata": {
    "execution": {
     "iopub.execute_input": "2021-03-01T04:05:30.804552Z",
     "iopub.status.busy": "2021-03-01T04:05:30.803372Z",
     "iopub.status.idle": "2021-03-01T04:05:30.805534Z",
     "shell.execute_reply": "2021-03-01T04:05:30.806514Z"
    },
    "papermill": {
     "duration": 0.05067,
     "end_time": "2021-03-01T04:05:30.806766",
     "exception": false,
     "start_time": "2021-03-01T04:05:30.756096",
     "status": "completed"
    },
    "tags": []
   },
   "outputs": [],
   "source": [
    "cat_cols = ['City_Code',\n",
    " 'Region_Code',\n",
    " 'Accomodation_Type',\n",
    " 'Reco_Insurance_Type',\n",
    " 'Is_Spouse',\n",
    " 'Health Indicator',\n",
    " 'Holding_Policy_Duration',\n",
    " 'Holding_Policy_Type',\n",
    " 'Reco_Policy_Cat']\n",
    "\n",
    "cat_cols = ['City_Code', 'Region_Code', 'Accomodation_Type',\n",
    "       'Reco_Insurance_Type', 'Upper_Age', 'Lower_Age', 'Is_Spouse',\n",
    "       'Health Indicator', 'Holding_Policy_Duration', 'Holding_Policy_Type',\n",
    "       'Reco_Policy_Cat']"
   ]
  },
  {
   "cell_type": "code",
   "execution_count": 7,
   "metadata": {
    "execution": {
     "iopub.execute_input": "2021-03-01T04:05:30.906878Z",
     "iopub.status.busy": "2021-03-01T04:05:30.905831Z",
     "iopub.status.idle": "2021-03-01T04:05:30.997863Z",
     "shell.execute_reply": "2021-03-01T04:05:30.998399Z"
    },
    "papermill": {
     "duration": 0.140888,
     "end_time": "2021-03-01T04:05:30.998572",
     "exception": false,
     "start_time": "2021-03-01T04:05:30.857684",
     "status": "completed"
    },
    "tags": []
   },
   "outputs": [
    {
     "data": {
      "text/html": [
       "<div>\n",
       "<style scoped>\n",
       "    .dataframe tbody tr th:only-of-type {\n",
       "        vertical-align: middle;\n",
       "    }\n",
       "\n",
       "    .dataframe tbody tr th {\n",
       "        vertical-align: top;\n",
       "    }\n",
       "\n",
       "    .dataframe thead th {\n",
       "        text-align: right;\n",
       "    }\n",
       "</style>\n",
       "<table border=\"1\" class=\"dataframe\">\n",
       "  <thead>\n",
       "    <tr style=\"text-align: right;\">\n",
       "      <th></th>\n",
       "      <th>City_Code</th>\n",
       "      <th>Region_Code</th>\n",
       "      <th>Accomodation_Type</th>\n",
       "      <th>Reco_Insurance_Type</th>\n",
       "      <th>Upper_Age</th>\n",
       "      <th>Lower_Age</th>\n",
       "      <th>Is_Spouse</th>\n",
       "      <th>Health Indicator</th>\n",
       "      <th>Holding_Policy_Duration</th>\n",
       "      <th>Holding_Policy_Type</th>\n",
       "      <th>...</th>\n",
       "      <th>OH_12</th>\n",
       "      <th>OH_13</th>\n",
       "      <th>OH_14</th>\n",
       "      <th>OH_15</th>\n",
       "      <th>OH_16</th>\n",
       "      <th>OH_17</th>\n",
       "      <th>OH_18</th>\n",
       "      <th>OH_19</th>\n",
       "      <th>OH_20</th>\n",
       "      <th>OH_21</th>\n",
       "    </tr>\n",
       "  </thead>\n",
       "  <tbody>\n",
       "    <tr>\n",
       "      <th>0</th>\n",
       "      <td>C3</td>\n",
       "      <td>3213</td>\n",
       "      <td>Rented</td>\n",
       "      <td>Individual</td>\n",
       "      <td>36</td>\n",
       "      <td>36</td>\n",
       "      <td>No</td>\n",
       "      <td>X1</td>\n",
       "      <td>14+</td>\n",
       "      <td>3.0</td>\n",
       "      <td>...</td>\n",
       "      <td>0.0</td>\n",
       "      <td>0.0</td>\n",
       "      <td>0.0</td>\n",
       "      <td>0.0</td>\n",
       "      <td>0.0</td>\n",
       "      <td>0.0</td>\n",
       "      <td>0.0</td>\n",
       "      <td>0.0</td>\n",
       "      <td>0.0</td>\n",
       "      <td>1.0</td>\n",
       "    </tr>\n",
       "    <tr>\n",
       "      <th>1</th>\n",
       "      <td>C5</td>\n",
       "      <td>1117</td>\n",
       "      <td>Owned</td>\n",
       "      <td>Joint</td>\n",
       "      <td>75</td>\n",
       "      <td>22</td>\n",
       "      <td>No</td>\n",
       "      <td>X2</td>\n",
       "      <td>-1</td>\n",
       "      <td>-1.0</td>\n",
       "      <td>...</td>\n",
       "      <td>0.0</td>\n",
       "      <td>0.0</td>\n",
       "      <td>0.0</td>\n",
       "      <td>0.0</td>\n",
       "      <td>0.0</td>\n",
       "      <td>0.0</td>\n",
       "      <td>0.0</td>\n",
       "      <td>0.0</td>\n",
       "      <td>0.0</td>\n",
       "      <td>1.0</td>\n",
       "    </tr>\n",
       "    <tr>\n",
       "      <th>2</th>\n",
       "      <td>C5</td>\n",
       "      <td>3732</td>\n",
       "      <td>Owned</td>\n",
       "      <td>Individual</td>\n",
       "      <td>32</td>\n",
       "      <td>32</td>\n",
       "      <td>No</td>\n",
       "      <td>-1</td>\n",
       "      <td>1.0</td>\n",
       "      <td>1.0</td>\n",
       "      <td>...</td>\n",
       "      <td>0.0</td>\n",
       "      <td>0.0</td>\n",
       "      <td>0.0</td>\n",
       "      <td>0.0</td>\n",
       "      <td>0.0</td>\n",
       "      <td>0.0</td>\n",
       "      <td>1.0</td>\n",
       "      <td>0.0</td>\n",
       "      <td>0.0</td>\n",
       "      <td>0.0</td>\n",
       "    </tr>\n",
       "    <tr>\n",
       "      <th>3</th>\n",
       "      <td>C24</td>\n",
       "      <td>4378</td>\n",
       "      <td>Owned</td>\n",
       "      <td>Joint</td>\n",
       "      <td>52</td>\n",
       "      <td>48</td>\n",
       "      <td>No</td>\n",
       "      <td>X1</td>\n",
       "      <td>14+</td>\n",
       "      <td>3.0</td>\n",
       "      <td>...</td>\n",
       "      <td>0.0</td>\n",
       "      <td>0.0</td>\n",
       "      <td>0.0</td>\n",
       "      <td>0.0</td>\n",
       "      <td>0.0</td>\n",
       "      <td>0.0</td>\n",
       "      <td>1.0</td>\n",
       "      <td>0.0</td>\n",
       "      <td>0.0</td>\n",
       "      <td>0.0</td>\n",
       "    </tr>\n",
       "    <tr>\n",
       "      <th>4</th>\n",
       "      <td>C8</td>\n",
       "      <td>2190</td>\n",
       "      <td>Rented</td>\n",
       "      <td>Individual</td>\n",
       "      <td>44</td>\n",
       "      <td>44</td>\n",
       "      <td>No</td>\n",
       "      <td>X2</td>\n",
       "      <td>3.0</td>\n",
       "      <td>1.0</td>\n",
       "      <td>...</td>\n",
       "      <td>0.0</td>\n",
       "      <td>0.0</td>\n",
       "      <td>0.0</td>\n",
       "      <td>1.0</td>\n",
       "      <td>0.0</td>\n",
       "      <td>0.0</td>\n",
       "      <td>0.0</td>\n",
       "      <td>0.0</td>\n",
       "      <td>0.0</td>\n",
       "      <td>0.0</td>\n",
       "    </tr>\n",
       "  </tbody>\n",
       "</table>\n",
       "<p>5 rows × 35 columns</p>\n",
       "</div>"
      ],
      "text/plain": [
       "  City_Code  Region_Code Accomodation_Type Reco_Insurance_Type  Upper_Age  \\\n",
       "0        C3         3213            Rented          Individual         36   \n",
       "1        C5         1117             Owned               Joint         75   \n",
       "2        C5         3732             Owned          Individual         32   \n",
       "3       C24         4378             Owned               Joint         52   \n",
       "4        C8         2190            Rented          Individual         44   \n",
       "\n",
       "   Lower_Age Is_Spouse Health Indicator Holding_Policy_Duration  \\\n",
       "0         36        No               X1                     14+   \n",
       "1         22        No               X2                      -1   \n",
       "2         32        No               -1                     1.0   \n",
       "3         48        No               X1                     14+   \n",
       "4         44        No               X2                     3.0   \n",
       "\n",
       "   Holding_Policy_Type  ...  OH_12  OH_13  OH_14  OH_15  OH_16  OH_17  OH_18  \\\n",
       "0                  3.0  ...    0.0    0.0    0.0    0.0    0.0    0.0    0.0   \n",
       "1                 -1.0  ...    0.0    0.0    0.0    0.0    0.0    0.0    0.0   \n",
       "2                  1.0  ...    0.0    0.0    0.0    0.0    0.0    0.0    1.0   \n",
       "3                  3.0  ...    0.0    0.0    0.0    0.0    0.0    0.0    1.0   \n",
       "4                  1.0  ...    0.0    0.0    0.0    1.0    0.0    0.0    0.0   \n",
       "\n",
       "   OH_19  OH_20  OH_21  \n",
       "0    0.0    0.0    1.0  \n",
       "1    0.0    0.0    1.0  \n",
       "2    0.0    0.0    0.0  \n",
       "3    0.0    0.0    0.0  \n",
       "4    0.0    0.0    0.0  \n",
       "\n",
       "[5 rows x 35 columns]"
      ]
     },
     "execution_count": 7,
     "metadata": {},
     "output_type": "execute_result"
    }
   ],
   "source": [
    "from sklearn.preprocessing import OneHotEncoder\n",
    "\n",
    "enc = OneHotEncoder(handle_unknown='ignore', sparse=False)\n",
    "\n",
    "enc.fit(np.array(train['Reco_Policy_Cat']).reshape(-1, 1))\n",
    "df_tr = pd.DataFrame(enc.transform(np.array(train['Reco_Policy_Cat']).reshape(-1, 1)))\n",
    "df_tes = pd.DataFrame(enc.transform(np.array(test['Reco_Policy_Cat']).reshape(-1, 1)))\n",
    "tr_col = []\n",
    "for i in df_tr.columns:\n",
    "    tr_col.append(\"OH_\" + str(i))\n",
    "df_tr.columns = tr_col\n",
    "\n",
    "tr_col = []\n",
    "for i in df_tes.columns:\n",
    "    tr_col.append(\"OH_\" + str(i))\n",
    "df_tes.columns = tr_col\n",
    "\n",
    "\n",
    "train = pd.concat([train, df_tr], axis=1)\n",
    "test = pd.concat([test, df_tes], axis=1)\n",
    "train.head()"
   ]
  },
  {
   "cell_type": "code",
   "execution_count": 8,
   "metadata": {
    "execution": {
     "iopub.execute_input": "2021-03-01T04:05:31.068144Z",
     "iopub.status.busy": "2021-03-01T04:05:31.067417Z",
     "iopub.status.idle": "2021-03-01T04:05:31.326655Z",
     "shell.execute_reply": "2021-03-01T04:05:31.325940Z"
    },
    "papermill": {
     "duration": 0.295293,
     "end_time": "2021-03-01T04:05:31.326804",
     "exception": false,
     "start_time": "2021-03-01T04:05:31.031511",
     "status": "completed"
    },
    "tags": []
   },
   "outputs": [
    {
     "data": {
      "text/plain": [
       "4058    1483.790646\n",
       "3789    1167.032517\n",
       "3890    1167.032517\n",
       "4102    1167.032517\n",
       "4364    1167.032517\n",
       "           ...     \n",
       "4509     216.758129\n",
       "4533     216.758129\n",
       "4542     216.758129\n",
       "4550     216.758129\n",
       "4559     216.758129\n",
       "Length: 500, dtype: float64"
      ]
     },
     "execution_count": 8,
     "metadata": {},
     "output_type": "execute_result"
    },
    {
     "data": {
      "image/png": "[encoded data removed]",
      "text/plain": [
       "<Figure size 432x288 with 1 Axes>"
      ]
     },
     "metadata": {
      "needs_background": "light"
     },
     "output_type": "display_data"
    }
   ],
   "source": [
    "i='Region_Code'\n",
    "xx = train[target].value_counts()[0] / train[target].value_counts()[1] \n",
    "df = pd.DataFrame({0 : train[train[target]==0][i].value_counts()/xx, 1: train[train[target]==1][i].value_counts()})\n",
    "plt.plot(np.abs((df[0]-df[1] )/df.min(axis=1))*100)\n",
    "\n",
    "((np.abs((df[0]-df[1] )/df.min(axis=1))*100).sort_values(ascending=False)[:500])\n"
   ]
  },
  {
   "cell_type": "code",
   "execution_count": 9,
   "metadata": {
    "execution": {
     "iopub.execute_input": "2021-03-01T04:05:31.405482Z",
     "iopub.status.busy": "2021-03-01T04:05:31.404804Z",
     "iopub.status.idle": "2021-03-01T04:06:16.289170Z",
     "shell.execute_reply": "2021-03-01T04:06:16.288505Z"
    },
    "papermill": {
     "duration": 44.928551,
     "end_time": "2021-03-01T04:06:16.289357",
     "exception": false,
     "start_time": "2021-03-01T04:05:31.360806",
     "status": "completed"
    },
    "tags": []
   },
   "outputs": [
    {
     "data": {
      "text/plain": [
       "['City_Code',\n",
       " 'Region_Code',\n",
       " 'Accomodation_Type',\n",
       " 'Reco_Insurance_Type',\n",
       " 'Upper_Age',\n",
       " 'Lower_Age',\n",
       " 'Is_Spouse',\n",
       " 'Health Indicator',\n",
       " 'Holding_Policy_Duration',\n",
       " 'Holding_Policy_Type',\n",
       " 'Reco_Policy_Cat',\n",
       " 'Region_Code_limited']"
      ]
     },
     "execution_count": 9,
     "metadata": {},
     "output_type": "execute_result"
    },
    {
     "data": {
      "image/png": "[encoded data removed]",
      "text/plain": [
       "<Figure size 432x288 with 1 Axes>"
      ]
     },
     "metadata": {
      "needs_background": "light"
     },
     "output_type": "display_data"
    }
   ],
   "source": [
    "i='Region_Code'\n",
    "xx = train[target].value_counts()[0] / train[target].value_counts()[1] \n",
    "df = pd.DataFrame({0 : train[train[target]==0][i].value_counts()/xx, 1: train[train[target]==1][i].value_counts()})\n",
    "plt.plot(np.abs((df[0]-df[1] )/df.min(axis=1))*100)\n",
    "\n",
    "idx = list((np.abs((df[0]-df[1] )/df.min(axis=1))*100).sort_values(ascending=False)[:500].index)\n",
    "\n",
    "train['Region_Code_limited'] = train['Region_Code']\n",
    "train['Region_Code_limited']\n",
    "for j in train['Region_Code_limited'].index:\n",
    "    if train['Region_Code_limited'][j] in idx:\n",
    "        continue\n",
    "    else :\n",
    "        train['Region_Code_limited'][j] = -1\n",
    "        \n",
    "        \n",
    "test['Region_Code_limited'] = test['Region_Code']\n",
    "test['Region_Code_limited']\n",
    "for j in test['Region_Code_limited'].index:\n",
    "    if test['Region_Code_limited'][j] in idx:\n",
    "        continue\n",
    "    else :\n",
    "        test['Region_Code_limited'][j] = -1\n",
    "        \n",
    "        \n",
    "cat_cols.append('Region_Code_limited')\n",
    "cat_cols"
   ]
  },
  {
   "cell_type": "code",
   "execution_count": 10,
   "metadata": {
    "execution": {
     "iopub.execute_input": "2021-03-01T04:06:16.363935Z",
     "iopub.status.busy": "2021-03-01T04:06:16.362878Z",
     "iopub.status.idle": "2021-03-01T04:06:16.366710Z",
     "shell.execute_reply": "2021-03-01T04:06:16.366207Z"
    },
    "papermill": {
     "duration": 0.042944,
     "end_time": "2021-03-01T04:06:16.366857",
     "exception": false,
     "start_time": "2021-03-01T04:06:16.323913",
     "status": "completed"
    },
    "tags": []
   },
   "outputs": [],
   "source": [
    "# train['Region_Code_limited'].value_counts()"
   ]
  },
  {
   "cell_type": "markdown",
   "metadata": {
    "papermill": {
     "duration": 0.033743,
     "end_time": "2021-03-01T04:06:16.434893",
     "exception": false,
     "start_time": "2021-03-01T04:06:16.401150",
     "status": "completed"
    },
    "tags": []
   },
   "source": [
    "# balaced check"
   ]
  },
  {
   "cell_type": "code",
   "execution_count": 11,
   "metadata": {
    "execution": {
     "iopub.execute_input": "2021-03-01T04:06:16.508165Z",
     "iopub.status.busy": "2021-03-01T04:06:16.507481Z",
     "iopub.status.idle": "2021-03-01T04:06:16.511152Z",
     "shell.execute_reply": "2021-03-01T04:06:16.510081Z"
    },
    "papermill": {
     "duration": 0.04212,
     "end_time": "2021-03-01T04:06:16.511306",
     "exception": false,
     "start_time": "2021-03-01T04:06:16.469186",
     "status": "completed"
    },
    "tags": []
   },
   "outputs": [],
   "source": [
    "# train['Response'].value_counts()"
   ]
  },
  {
   "cell_type": "code",
   "execution_count": 12,
   "metadata": {
    "execution": {
     "iopub.execute_input": "2021-03-01T04:06:16.585305Z",
     "iopub.status.busy": "2021-03-01T04:06:16.584441Z",
     "iopub.status.idle": "2021-03-01T04:06:16.587539Z",
     "shell.execute_reply": "2021-03-01T04:06:16.586886Z"
    },
    "papermill": {
     "duration": 0.041492,
     "end_time": "2021-03-01T04:06:16.587700",
     "exception": false,
     "start_time": "2021-03-01T04:06:16.546208",
     "status": "completed"
    },
    "tags": []
   },
   "outputs": [],
   "source": [
    "# train1 = train[train['Response'] == 1]\n",
    "# train = pd.concat([train, train1], axis=0).reset_index(drop=True)\n",
    "# train = pd.concat([train, train1], axis=0).reset_index(drop=True)\n",
    "# "
   ]
  },
  {
   "cell_type": "code",
   "execution_count": 13,
   "metadata": {
    "execution": {
     "iopub.execute_input": "2021-03-01T04:06:16.660761Z",
     "iopub.status.busy": "2021-03-01T04:06:16.659980Z",
     "iopub.status.idle": "2021-03-01T04:06:16.662882Z",
     "shell.execute_reply": "2021-03-01T04:06:16.662246Z"
    },
    "papermill": {
     "duration": 0.041223,
     "end_time": "2021-03-01T04:06:16.663024",
     "exception": false,
     "start_time": "2021-03-01T04:06:16.621801",
     "status": "completed"
    },
    "tags": []
   },
   "outputs": [],
   "source": [
    "# train['Response'].value_counts()"
   ]
  },
  {
   "cell_type": "code",
   "execution_count": 14,
   "metadata": {
    "execution": {
     "iopub.execute_input": "2021-03-01T04:06:16.735857Z",
     "iopub.status.busy": "2021-03-01T04:06:16.735152Z",
     "iopub.status.idle": "2021-03-01T04:06:16.738215Z",
     "shell.execute_reply": "2021-03-01T04:06:16.737608Z"
    },
    "papermill": {
     "duration": 0.040983,
     "end_time": "2021-03-01T04:06:16.738354",
     "exception": false,
     "start_time": "2021-03-01T04:06:16.697371",
     "status": "completed"
    },
    "tags": []
   },
   "outputs": [],
   "source": [
    "# for i in train.columns:\n",
    "#     print(i,  len(train[i].unique()))"
   ]
  },
  {
   "cell_type": "code",
   "execution_count": null,
   "metadata": {
    "papermill": {
     "duration": 0.03465,
     "end_time": "2021-03-01T04:06:16.807259",
     "exception": false,
     "start_time": "2021-03-01T04:06:16.772609",
     "status": "completed"
    },
    "tags": []
   },
   "outputs": [],
   "source": []
  },
  {
   "cell_type": "code",
   "execution_count": 15,
   "metadata": {
    "execution": {
     "iopub.execute_input": "2021-03-01T04:06:16.887549Z",
     "iopub.status.busy": "2021-03-01T04:06:16.884406Z",
     "iopub.status.idle": "2021-03-01T04:06:17.016907Z",
     "shell.execute_reply": "2021-03-01T04:06:17.016277Z"
    },
    "papermill": {
     "duration": 0.175314,
     "end_time": "2021-03-01T04:06:17.017050",
     "exception": false,
     "start_time": "2021-03-01T04:06:16.841736",
     "status": "completed"
    },
    "tags": []
   },
   "outputs": [
    {
     "data": {
      "text/html": [
       "<div>\n",
       "<style scoped>\n",
       "    .dataframe tbody tr th:only-of-type {\n",
       "        vertical-align: middle;\n",
       "    }\n",
       "\n",
       "    .dataframe tbody tr th {\n",
       "        vertical-align: top;\n",
       "    }\n",
       "\n",
       "    .dataframe thead th {\n",
       "        text-align: right;\n",
       "    }\n",
       "</style>\n",
       "<table border=\"1\" class=\"dataframe\">\n",
       "  <thead>\n",
       "    <tr style=\"text-align: right;\">\n",
       "      <th></th>\n",
       "      <th>City_Code</th>\n",
       "      <th>Region_Code</th>\n",
       "      <th>Accomodation_Type</th>\n",
       "      <th>Reco_Insurance_Type</th>\n",
       "      <th>Upper_Age</th>\n",
       "      <th>Lower_Age</th>\n",
       "      <th>Is_Spouse</th>\n",
       "      <th>Health Indicator</th>\n",
       "      <th>Holding_Policy_Duration</th>\n",
       "      <th>Holding_Policy_Type</th>\n",
       "      <th>...</th>\n",
       "      <th>OH_13</th>\n",
       "      <th>OH_14</th>\n",
       "      <th>OH_15</th>\n",
       "      <th>OH_16</th>\n",
       "      <th>OH_17</th>\n",
       "      <th>OH_18</th>\n",
       "      <th>OH_19</th>\n",
       "      <th>OH_20</th>\n",
       "      <th>OH_21</th>\n",
       "      <th>Region_Code_limited</th>\n",
       "    </tr>\n",
       "  </thead>\n",
       "  <tbody>\n",
       "    <tr>\n",
       "      <th>0</th>\n",
       "      <td>C3</td>\n",
       "      <td>3213</td>\n",
       "      <td>Rented</td>\n",
       "      <td>Individual</td>\n",
       "      <td>36</td>\n",
       "      <td>36</td>\n",
       "      <td>No</td>\n",
       "      <td>X1</td>\n",
       "      <td>14+</td>\n",
       "      <td>3.0</td>\n",
       "      <td>...</td>\n",
       "      <td>0.0</td>\n",
       "      <td>0.0</td>\n",
       "      <td>0.0</td>\n",
       "      <td>0.0</td>\n",
       "      <td>0.0</td>\n",
       "      <td>0.0</td>\n",
       "      <td>0.0</td>\n",
       "      <td>0.0</td>\n",
       "      <td>1.0</td>\n",
       "      <td>-1</td>\n",
       "    </tr>\n",
       "    <tr>\n",
       "      <th>1</th>\n",
       "      <td>C5</td>\n",
       "      <td>1117</td>\n",
       "      <td>Owned</td>\n",
       "      <td>Joint</td>\n",
       "      <td>75</td>\n",
       "      <td>22</td>\n",
       "      <td>No</td>\n",
       "      <td>X2</td>\n",
       "      <td>-1</td>\n",
       "      <td>-1.0</td>\n",
       "      <td>...</td>\n",
       "      <td>0.0</td>\n",
       "      <td>0.0</td>\n",
       "      <td>0.0</td>\n",
       "      <td>0.0</td>\n",
       "      <td>0.0</td>\n",
       "      <td>0.0</td>\n",
       "      <td>0.0</td>\n",
       "      <td>0.0</td>\n",
       "      <td>1.0</td>\n",
       "      <td>-1</td>\n",
       "    </tr>\n",
       "    <tr>\n",
       "      <th>2</th>\n",
       "      <td>C5</td>\n",
       "      <td>3732</td>\n",
       "      <td>Owned</td>\n",
       "      <td>Individual</td>\n",
       "      <td>32</td>\n",
       "      <td>32</td>\n",
       "      <td>No</td>\n",
       "      <td>-1</td>\n",
       "      <td>1.0</td>\n",
       "      <td>1.0</td>\n",
       "      <td>...</td>\n",
       "      <td>0.0</td>\n",
       "      <td>0.0</td>\n",
       "      <td>0.0</td>\n",
       "      <td>0.0</td>\n",
       "      <td>0.0</td>\n",
       "      <td>1.0</td>\n",
       "      <td>0.0</td>\n",
       "      <td>0.0</td>\n",
       "      <td>0.0</td>\n",
       "      <td>-1</td>\n",
       "    </tr>\n",
       "    <tr>\n",
       "      <th>3</th>\n",
       "      <td>C24</td>\n",
       "      <td>4378</td>\n",
       "      <td>Owned</td>\n",
       "      <td>Joint</td>\n",
       "      <td>52</td>\n",
       "      <td>48</td>\n",
       "      <td>No</td>\n",
       "      <td>X1</td>\n",
       "      <td>14+</td>\n",
       "      <td>3.0</td>\n",
       "      <td>...</td>\n",
       "      <td>0.0</td>\n",
       "      <td>0.0</td>\n",
       "      <td>0.0</td>\n",
       "      <td>0.0</td>\n",
       "      <td>0.0</td>\n",
       "      <td>1.0</td>\n",
       "      <td>0.0</td>\n",
       "      <td>0.0</td>\n",
       "      <td>0.0</td>\n",
       "      <td>-1</td>\n",
       "    </tr>\n",
       "    <tr>\n",
       "      <th>4</th>\n",
       "      <td>C8</td>\n",
       "      <td>2190</td>\n",
       "      <td>Rented</td>\n",
       "      <td>Individual</td>\n",
       "      <td>44</td>\n",
       "      <td>44</td>\n",
       "      <td>No</td>\n",
       "      <td>X2</td>\n",
       "      <td>3.0</td>\n",
       "      <td>1.0</td>\n",
       "      <td>...</td>\n",
       "      <td>0.0</td>\n",
       "      <td>0.0</td>\n",
       "      <td>1.0</td>\n",
       "      <td>0.0</td>\n",
       "      <td>0.0</td>\n",
       "      <td>0.0</td>\n",
       "      <td>0.0</td>\n",
       "      <td>0.0</td>\n",
       "      <td>0.0</td>\n",
       "      <td>-1</td>\n",
       "    </tr>\n",
       "  </tbody>\n",
       "</table>\n",
       "<p>5 rows × 36 columns</p>\n",
       "</div>"
      ],
      "text/plain": [
       "  City_Code  Region_Code Accomodation_Type Reco_Insurance_Type  Upper_Age  \\\n",
       "0        C3         3213            Rented          Individual         36   \n",
       "1        C5         1117             Owned               Joint         75   \n",
       "2        C5         3732             Owned          Individual         32   \n",
       "3       C24         4378             Owned               Joint         52   \n",
       "4        C8         2190            Rented          Individual         44   \n",
       "\n",
       "   Lower_Age Is_Spouse Health Indicator Holding_Policy_Duration  \\\n",
       "0         36        No               X1                     14+   \n",
       "1         22        No               X2                      -1   \n",
       "2         32        No               -1                     1.0   \n",
       "3         48        No               X1                     14+   \n",
       "4         44        No               X2                     3.0   \n",
       "\n",
       "   Holding_Policy_Type  ...  OH_13  OH_14  OH_15  OH_16  OH_17  OH_18  OH_19  \\\n",
       "0                  3.0  ...    0.0    0.0    0.0    0.0    0.0    0.0    0.0   \n",
       "1                 -1.0  ...    0.0    0.0    0.0    0.0    0.0    0.0    0.0   \n",
       "2                  1.0  ...    0.0    0.0    0.0    0.0    0.0    1.0    0.0   \n",
       "3                  3.0  ...    0.0    0.0    0.0    0.0    0.0    1.0    0.0   \n",
       "4                  1.0  ...    0.0    0.0    1.0    0.0    0.0    0.0    0.0   \n",
       "\n",
       "   OH_20  OH_21  Region_Code_limited  \n",
       "0    0.0    1.0                   -1  \n",
       "1    0.0    1.0                   -1  \n",
       "2    0.0    0.0                   -1  \n",
       "3    0.0    0.0                   -1  \n",
       "4    0.0    0.0                   -1  \n",
       "\n",
       "[5 rows x 36 columns]"
      ]
     },
     "execution_count": 15,
     "metadata": {},
     "output_type": "execute_result"
    }
   ],
   "source": [
    "train = reduce_mem_usage(train)\n",
    "test = reduce_mem_usage(test)\n",
    "train.head()"
   ]
  },
  {
   "cell_type": "markdown",
   "metadata": {
    "papermill": {
     "duration": 0.034704,
     "end_time": "2021-03-01T04:06:17.086666",
     "exception": false,
     "start_time": "2021-03-01T04:06:17.051962",
     "status": "completed"
    },
    "tags": []
   },
   "source": [
    "# H2O"
   ]
  },
  {
   "cell_type": "code",
   "execution_count": 16,
   "metadata": {
    "execution": {
     "iopub.execute_input": "2021-03-01T04:06:17.161752Z",
     "iopub.status.busy": "2021-03-01T04:06:17.160865Z",
     "iopub.status.idle": "2021-03-01T04:06:25.327350Z",
     "shell.execute_reply": "2021-03-01T04:06:25.326633Z"
    },
    "papermill": {
     "duration": 8.206035,
     "end_time": "2021-03-01T04:06:25.327516",
     "exception": false,
     "start_time": "2021-03-01T04:06:17.121481",
     "status": "completed"
    },
    "tags": []
   },
   "outputs": [
    {
     "name": "stdout",
     "output_type": "stream",
     "text": [
      "Requirement already satisfied: h2o in /opt/conda/lib/python3.7/site-packages (3.32.0.4)\r\n",
      "Requirement already satisfied: colorama>=0.3.8 in /opt/conda/lib/python3.7/site-packages (from h2o) (0.4.4)\r\n",
      "Requirement already satisfied: future in /opt/conda/lib/python3.7/site-packages (from h2o) (0.18.2)\r\n",
      "Requirement already satisfied: requests in /opt/conda/lib/python3.7/site-packages (from h2o) (2.25.1)\r\n",
      "Requirement already satisfied: tabulate in /opt/conda/lib/python3.7/site-packages (from h2o) (0.8.8)\r\n",
      "Requirement already satisfied: certifi>=2017.4.17 in /opt/conda/lib/python3.7/site-packages (from requests->h2o) (2020.12.5)\r\n",
      "Requirement already satisfied: urllib3<1.27,>=1.21.1 in /opt/conda/lib/python3.7/site-packages (from requests->h2o) (1.26.2)\r\n",
      "Requirement already satisfied: chardet<5,>=3.0.2 in /opt/conda/lib/python3.7/site-packages (from requests->h2o) (3.0.4)\r\n",
      "Requirement already satisfied: idna<3,>=2.5 in /opt/conda/lib/python3.7/site-packages (from requests->h2o) (2.10)\r\n"
     ]
    }
   ],
   "source": [
    "!pip install h2o"
   ]
  },
  {
   "cell_type": "code",
   "execution_count": 17,
   "metadata": {
    "execution": {
     "iopub.execute_input": "2021-03-01T04:06:25.405747Z",
     "iopub.status.busy": "2021-03-01T04:06:25.404951Z",
     "iopub.status.idle": "2021-03-01T04:06:32.471457Z",
     "shell.execute_reply": "2021-03-01T04:06:32.472401Z"
    },
    "papermill": {
     "duration": 7.109142,
     "end_time": "2021-03-01T04:06:32.472595",
     "exception": false,
     "start_time": "2021-03-01T04:06:25.363453",
     "status": "completed"
    },
    "tags": []
   },
   "outputs": [
    {
     "name": "stdout",
     "output_type": "stream",
     "text": [
      "Checking whether there is an H2O instance running at http://localhost:54321 ..... not found.\n",
      "Attempting to start a local H2O server...\n",
      "  Java Version: openjdk version \"11.0.10\" 2021-01-19; OpenJDK Runtime Environment (build 11.0.10+9-Ubuntu-0ubuntu1.18.04); OpenJDK 64-Bit Server VM (build 11.0.10+9-Ubuntu-0ubuntu1.18.04, mixed mode, sharing)\n",
      "  Starting server from /opt/conda/lib/python3.7/site-packages/h2o/backend/bin/h2o.jar\n",
      "  Ice root: /tmp/tmpolj1dx_c\n",
      "  JVM stdout: /tmp/tmpolj1dx_c/h2o_unknownUser_started_from_python.out\n",
      "  JVM stderr: /tmp/tmpolj1dx_c/h2o_unknownUser_started_from_python.err\n",
      "  Server is running at http://127.0.0.1:54321\n",
      "Connecting to H2O server at http://127.0.0.1:54321 ... successful.\n"
     ]
    },
    {
     "data": {
      "text/html": [
       "<div style=\"overflow:auto\"><table style=\"width:50%\"><tr><td>H2O_cluster_uptime:</td>\n",
       "<td>02 secs</td></tr>\n",
       "<tr><td>H2O_cluster_timezone:</td>\n",
       "<td>Etc/UTC</td></tr>\n",
       "<tr><td>H2O_data_parsing_timezone:</td>\n",
       "<td>UTC</td></tr>\n",
       "<tr><td>H2O_cluster_version:</td>\n",
       "<td>3.32.0.4</td></tr>\n",
       "<tr><td>H2O_cluster_version_age:</td>\n",
       "<td>27 days </td></tr>\n",
       "<tr><td>H2O_cluster_name:</td>\n",
       "<td>H2O_from_python_unknownUser_2c19br</td></tr>\n",
       "<tr><td>H2O_cluster_total_nodes:</td>\n",
       "<td>1</td></tr>\n",
       "<tr><td>H2O_cluster_free_memory:</td>\n",
       "<td>12 Gb</td></tr>\n",
       "<tr><td>H2O_cluster_total_cores:</td>\n",
       "<td>4</td></tr>\n",
       "<tr><td>H2O_cluster_allowed_cores:</td>\n",
       "<td>4</td></tr>\n",
       "<tr><td>H2O_cluster_status:</td>\n",
       "<td>accepting new members, healthy</td></tr>\n",
       "<tr><td>H2O_connection_url:</td>\n",
       "<td>http://127.0.0.1:54321</td></tr>\n",
       "<tr><td>H2O_connection_proxy:</td>\n",
       "<td>{\"http\": null, \"https\": null}</td></tr>\n",
       "<tr><td>H2O_internal_security:</td>\n",
       "<td>False</td></tr>\n",
       "<tr><td>H2O_API_Extensions:</td>\n",
       "<td>Amazon S3, XGBoost, Algos, AutoML, Core V3, TargetEncoder, Core V4</td></tr>\n",
       "<tr><td>Python_version:</td>\n",
       "<td>3.7.9 final</td></tr></table></div>"
      ],
      "text/plain": [
       "--------------------------  ------------------------------------------------------------------\n",
       "H2O_cluster_uptime:         02 secs\n",
       "H2O_cluster_timezone:       Etc/UTC\n",
       "H2O_data_parsing_timezone:  UTC\n",
       "H2O_cluster_version:        3.32.0.4\n",
       "H2O_cluster_version_age:    27 days\n",
       "H2O_cluster_name:           H2O_from_python_unknownUser_2c19br\n",
       "H2O_cluster_total_nodes:    1\n",
       "H2O_cluster_free_memory:    12 Gb\n",
       "H2O_cluster_total_cores:    4\n",
       "H2O_cluster_allowed_cores:  4\n",
       "H2O_cluster_status:         accepting new members, healthy\n",
       "H2O_connection_url:         http://127.0.0.1:54321\n",
       "H2O_connection_proxy:       {\"http\": null, \"https\": null}\n",
       "H2O_internal_security:      False\n",
       "H2O_API_Extensions:         Amazon S3, XGBoost, Algos, AutoML, Core V3, TargetEncoder, Core V4\n",
       "Python_version:             3.7.9 final\n",
       "--------------------------  ------------------------------------------------------------------"
      ]
     },
     "metadata": {},
     "output_type": "display_data"
    }
   ],
   "source": [
    "import sys, os, os.path\n",
    "import warnings\n",
    "warnings.filterwarnings('ignore')\n",
    "\n",
    "import numpy as np\n",
    "import pandas as pd\n",
    "import pickle\n",
    "\n",
    "import h2o\n",
    "from h2o.automl import H2OAutoML\n",
    "\n",
    "h2o.init(\n",
    "    nthreads=-1,     # number of threads when launching a new H2O server\n",
    "    max_mem_size=12  # in gigabytes\n",
    ")"
   ]
  },
  {
   "cell_type": "code",
   "execution_count": 18,
   "metadata": {
    "execution": {
     "iopub.execute_input": "2021-03-01T04:06:32.572241Z",
     "iopub.status.busy": "2021-03-01T04:06:32.570932Z",
     "iopub.status.idle": "2021-03-01T04:06:32.583523Z",
     "shell.execute_reply": "2021-03-01T04:06:32.584098Z"
    },
    "papermill": {
     "duration": 0.065653,
     "end_time": "2021-03-01T04:06:32.584309",
     "exception": false,
     "start_time": "2021-03-01T04:06:32.518656",
     "status": "completed"
    },
    "tags": []
   },
   "outputs": [],
   "source": [
    "X_train = train.drop([target], axis=1)\n",
    "X_test = test.copy()\n",
    "y_train = train[target]"
   ]
  },
  {
   "cell_type": "code",
   "execution_count": 19,
   "metadata": {
    "execution": {
     "iopub.execute_input": "2021-03-01T04:06:32.677517Z",
     "iopub.status.busy": "2021-03-01T04:06:32.676513Z",
     "iopub.status.idle": "2021-03-01T04:06:32.683740Z",
     "shell.execute_reply": "2021-03-01T04:06:32.684346Z"
    },
    "papermill": {
     "duration": 0.055621,
     "end_time": "2021-03-01T04:06:32.684522",
     "exception": false,
     "start_time": "2021-03-01T04:06:32.628901",
     "status": "completed"
    },
    "tags": []
   },
   "outputs": [
    {
     "data": {
      "text/plain": [
       "['Reco_Policy_Premium',\n",
       " 'OH_0',\n",
       " 'OH_1',\n",
       " 'OH_2',\n",
       " 'OH_3',\n",
       " 'OH_4',\n",
       " 'OH_5',\n",
       " 'OH_6',\n",
       " 'OH_7',\n",
       " 'OH_8',\n",
       " 'OH_9',\n",
       " 'OH_10',\n",
       " 'OH_11',\n",
       " 'OH_12',\n",
       " 'OH_13',\n",
       " 'OH_14',\n",
       " 'OH_15',\n",
       " 'OH_16',\n",
       " 'OH_17',\n",
       " 'OH_18',\n",
       " 'OH_19',\n",
       " 'OH_20',\n",
       " 'OH_21']"
      ]
     },
     "execution_count": 19,
     "metadata": {},
     "output_type": "execute_result"
    }
   ],
   "source": [
    "xx = list(X_train.columns)\n",
    "feature_cols = []\n",
    "for i in xx:\n",
    "    if i not in cat_cols:\n",
    "        feature_cols.append(i)\n",
    "feature_cols"
   ]
  },
  {
   "cell_type": "code",
   "execution_count": 20,
   "metadata": {
    "execution": {
     "iopub.execute_input": "2021-03-01T04:06:32.785519Z",
     "iopub.status.busy": "2021-03-01T04:06:32.784860Z",
     "iopub.status.idle": "2021-03-01T04:06:32.855051Z",
     "shell.execute_reply": "2021-03-01T04:06:32.854487Z"
    },
    "papermill": {
     "duration": 0.12554,
     "end_time": "2021-03-01T04:06:32.855208",
     "exception": false,
     "start_time": "2021-03-01T04:06:32.729668",
     "status": "completed"
    },
    "tags": []
   },
   "outputs": [],
   "source": [
    "for feat in cat_cols:\n",
    "    X_train[feat] = X_train[feat].astype('category')\n",
    "    X_test[feat] = X_test[feat].astype('category')"
   ]
  },
  {
   "cell_type": "code",
   "execution_count": 21,
   "metadata": {
    "execution": {
     "iopub.execute_input": "2021-03-01T04:06:32.949040Z",
     "iopub.status.busy": "2021-03-01T04:06:32.948149Z",
     "iopub.status.idle": "2021-03-01T04:06:32.950669Z",
     "shell.execute_reply": "2021-03-01T04:06:32.950162Z"
    },
    "papermill": {
     "duration": 0.051367,
     "end_time": "2021-03-01T04:06:32.950862",
     "exception": false,
     "start_time": "2021-03-01T04:06:32.899495",
     "status": "completed"
    },
    "tags": []
   },
   "outputs": [],
   "source": [
    "# metalearner.predict(X_test_h)"
   ]
  },
  {
   "cell_type": "code",
   "execution_count": 22,
   "metadata": {
    "execution": {
     "iopub.execute_input": "2021-03-01T04:06:33.042869Z",
     "iopub.status.busy": "2021-03-01T04:06:33.042246Z",
     "iopub.status.idle": "2021-03-01T04:06:40.240087Z",
     "shell.execute_reply": "2021-03-01T04:06:40.238984Z"
    },
    "papermill": {
     "duration": 7.245282,
     "end_time": "2021-03-01T04:06:40.240319",
     "exception": false,
     "start_time": "2021-03-01T04:06:32.995037",
     "status": "completed"
    },
    "tags": []
   },
   "outputs": [
    {
     "name": "stdout",
     "output_type": "stream",
     "text": [
      "Parse progress: |█████████████████████████████████████████████████████████| 100%\n",
      "Parse progress: |█████████████████████████████████████████████████████████| 100%\n",
      "Rows:50882\n",
      "Cols:36\n",
      "\n",
      "\n"
     ]
    },
    {
     "data": {
      "text/html": [
       "<table>\n",
       "<thead>\n",
       "<tr><th>       </th><th>City_Code  </th><th>Region_Code       </th><th>Accomodation_Type  </th><th>Reco_Insurance_Type  </th><th>Upper_Age        </th><th>Lower_Age         </th><th>Is_Spouse  </th><th>Health Indicator  </th><th>Holding_Policy_Duration  </th><th>Holding_Policy_Type  </th><th>Reco_Policy_Cat   </th><th>Reco_Policy_Premium  </th><th>OH_0                </th><th>OH_1               </th><th>OH_2                </th><th>OH_3                </th><th>OH_4                </th><th>OH_5                </th><th>OH_6               </th><th>OH_7                </th><th>OH_8                </th><th>OH_9                </th><th>OH_10               </th><th>OH_11              </th><th>OH_12              </th><th>OH_13              </th><th>OH_14              </th><th>OH_15              </th><th>OH_16              </th><th>OH_17              </th><th>OH_18             </th><th>OH_19              </th><th>OH_20              </th><th>OH_21              </th><th>Region_Code_limited  </th><th>label  </th></tr>\n",
       "</thead>\n",
       "<tbody>\n",
       "<tr><td>type   </td><td>enum       </td><td>int               </td><td>enum               </td><td>enum                 </td><td>int              </td><td>int               </td><td>enum       </td><td>enum              </td><td>int                      </td><td>int                  </td><td>int               </td><td>int                  </td><td>int                 </td><td>int                </td><td>int                 </td><td>int                 </td><td>int                 </td><td>int                 </td><td>int                </td><td>int                 </td><td>int                 </td><td>int                 </td><td>int                 </td><td>int                </td><td>int                </td><td>int                </td><td>int                </td><td>int                </td><td>int                </td><td>int                </td><td>int               </td><td>int                </td><td>int                </td><td>int                </td><td>int                  </td><td>enum   </td></tr>\n",
       "<tr><td>mins   </td><td>           </td><td>1.0               </td><td>                   </td><td>                     </td><td>18.0             </td><td>16.0              </td><td>           </td><td>                  </td><td>-1.0                     </td><td>-1.0                 </td><td>1.0               </td><td>2280.0               </td><td>0.0                 </td><td>0.0                </td><td>0.0                 </td><td>0.0                 </td><td>0.0                 </td><td>0.0                 </td><td>0.0                </td><td>0.0                 </td><td>0.0                 </td><td>0.0                 </td><td>0.0                 </td><td>0.0                </td><td>0.0                </td><td>0.0                </td><td>0.0                </td><td>0.0                </td><td>0.0                </td><td>0.0                </td><td>0.0               </td><td>0.0                </td><td>0.0                </td><td>0.0                </td><td>-1.0                 </td><td>       </td></tr>\n",
       "<tr><td>mean   </td><td>           </td><td>1732.7887072049025</td><td>                   </td><td>                     </td><td>44.8562753036436 </td><td>42.738866396761246</td><td>           </td><td>                  </td><td>2.2195200549981715       </td><td>1.0704178294878333   </td><td>15.115188082229473</td><td>14183.935615738406   </td><td>0.038658071616681736</td><td>0.03767540584096537</td><td>0.020812861129672577</td><td>0.019948115247042177</td><td>0.019790888722927558</td><td>0.016724971502692504</td><td>0.01639086513894894</td><td>0.015250972839117959</td><td>0.015506465940804213</td><td>0.015133052946031995</td><td>0.015349239416689595</td><td>0.04260838803506151</td><td>0.03309618332612712</td><td>0.0342360756259581 </td><td>0.03174010455563853</td><td>0.08026414056051256</td><td>0.07381785307181321</td><td>0.10913486105105931</td><td>0.0728744939271255</td><td>0.06243858338901773</td><td>0.09879721709052317</td><td>0.1297511890255886 </td><td>168.26950591564747   </td><td>       </td></tr>\n",
       "<tr><td>maxs   </td><td>           </td><td>6194.0            </td><td>                   </td><td>                     </td><td>75.0             </td><td>75.0              </td><td>           </td><td>                  </td><td>14.0                     </td><td>4.0                  </td><td>22.0              </td><td>43360.0              </td><td>1.0                 </td><td>1.0                </td><td>1.0                 </td><td>1.0                 </td><td>1.0                 </td><td>1.0                 </td><td>1.0                </td><td>1.0                 </td><td>1.0                 </td><td>1.0                 </td><td>1.0                 </td><td>1.0                </td><td>1.0                </td><td>1.0                </td><td>1.0                </td><td>1.0                </td><td>1.0                </td><td>1.0                </td><td>1.0               </td><td>1.0                </td><td>1.0                </td><td>1.0                </td><td>5580.0               </td><td>       </td></tr>\n",
       "<tr><td>sigma  </td><td>           </td><td>1424.0816515674207</td><td>                   </td><td>                     </td><td>17.31027109474683</td><td>17.319375214013107</td><td>           </td><td>                  </td><td>3.7949158980043656       </td><td>1.8621690181379078   </td><td>6.340662671839652 </td><td>6590.038314922004    </td><td>0.1927805890601181  </td><td>0.19041187515409508</td><td>0.14275884027806926 </td><td>0.1398233606329658  </td><td>0.13928241350853088 </td><td>0.12824028244238803 </td><td>0.12697449169005734</td><td>0.12255070719238305 </td><td>0.12355693217519578 </td><td>0.12208331816507043 </td><td>0.12293875428438852 </td><td>0.20197454056357633</td><td>0.1788895047510076 </td><td>0.18183678555516156</td><td>0.17530908227805214</td><td>0.2717043598700611 </td><td>0.26147680841567544</td><td>0.31181140770445887</td><td>0.2599329335440343</td><td>0.24195279957302385</td><td>0.29839248797365675</td><td>0.33603279183116436</td><td>716.9087674171794    </td><td>       </td></tr>\n",
       "<tr><td>zeros  </td><td>           </td><td>0                 </td><td>                   </td><td>                     </td><td>0                </td><td>0                 </td><td>           </td><td>                  </td><td>0                        </td><td>0                    </td><td>0                 </td><td>0                    </td><td>48915               </td><td>48965              </td><td>49823               </td><td>49867               </td><td>49875               </td><td>50031               </td><td>50048              </td><td>50106               </td><td>50093               </td><td>50112               </td><td>50101               </td><td>48714              </td><td>49198              </td><td>49140              </td><td>49267              </td><td>46798              </td><td>47126              </td><td>45329              </td><td>47174             </td><td>47705              </td><td>45855              </td><td>44280              </td><td>0                    </td><td>       </td></tr>\n",
       "<tr><td>missing</td><td>0          </td><td>0                 </td><td>0                  </td><td>0                    </td><td>0                </td><td>0                 </td><td>0          </td><td>0                 </td><td>4335                     </td><td>0                    </td><td>0                 </td><td>0                    </td><td>0                   </td><td>0                  </td><td>0                   </td><td>0                   </td><td>0                   </td><td>0                   </td><td>0                  </td><td>0                   </td><td>0                   </td><td>0                   </td><td>0                   </td><td>0                  </td><td>0                  </td><td>0                  </td><td>0                  </td><td>0                  </td><td>0                  </td><td>0                  </td><td>0                 </td><td>0                  </td><td>0                  </td><td>0                  </td><td>0                    </td><td>0      </td></tr>\n",
       "<tr><td>0      </td><td>C3         </td><td>3213.0            </td><td>Rented             </td><td>Individual           </td><td>36.0             </td><td>36.0              </td><td>No         </td><td>X1                </td><td>nan                      </td><td>3.0                  </td><td>22.0              </td><td>11632.0              </td><td>0.0                 </td><td>0.0                </td><td>0.0                 </td><td>0.0                 </td><td>0.0                 </td><td>0.0                 </td><td>0.0                </td><td>0.0                 </td><td>0.0                 </td><td>0.0                 </td><td>0.0                 </td><td>0.0                </td><td>0.0                </td><td>0.0                </td><td>0.0                </td><td>0.0                </td><td>0.0                </td><td>0.0                </td><td>0.0               </td><td>0.0                </td><td>0.0                </td><td>1.0                </td><td>-1.0                 </td><td>0      </td></tr>\n",
       "<tr><td>1      </td><td>C5         </td><td>1117.0            </td><td>Owned              </td><td>Joint                </td><td>75.0             </td><td>22.0              </td><td>No         </td><td>X2                </td><td>-1.0                     </td><td>-1.0                 </td><td>22.0              </td><td>30512.0              </td><td>0.0                 </td><td>0.0                </td><td>0.0                 </td><td>0.0                 </td><td>0.0                 </td><td>0.0                 </td><td>0.0                </td><td>0.0                 </td><td>0.0                 </td><td>0.0                 </td><td>0.0                 </td><td>0.0                </td><td>0.0                </td><td>0.0                </td><td>0.0                </td><td>0.0                </td><td>0.0                </td><td>0.0                </td><td>0.0               </td><td>0.0                </td><td>0.0                </td><td>1.0                </td><td>-1.0                 </td><td>0      </td></tr>\n",
       "<tr><td>2      </td><td>C5         </td><td>3732.0            </td><td>Owned              </td><td>Individual           </td><td>32.0             </td><td>32.0              </td><td>No         </td><td>-1                </td><td>1.0                      </td><td>1.0                  </td><td>19.0              </td><td>7448.0               </td><td>0.0                 </td><td>0.0                </td><td>0.0                 </td><td>0.0                 </td><td>0.0                 </td><td>0.0                 </td><td>0.0                </td><td>0.0                 </td><td>0.0                 </td><td>0.0                 </td><td>0.0                 </td><td>0.0                </td><td>0.0                </td><td>0.0                </td><td>0.0                </td><td>0.0                </td><td>0.0                </td><td>0.0                </td><td>1.0               </td><td>0.0                </td><td>0.0                </td><td>0.0                </td><td>-1.0                 </td><td>1      </td></tr>\n",
       "<tr><td>3      </td><td>C24        </td><td>4378.0            </td><td>Owned              </td><td>Joint                </td><td>52.0             </td><td>48.0              </td><td>No         </td><td>X1                </td><td>nan                      </td><td>3.0                  </td><td>19.0              </td><td>17776.0              </td><td>0.0                 </td><td>0.0                </td><td>0.0                 </td><td>0.0                 </td><td>0.0                 </td><td>0.0                 </td><td>0.0                </td><td>0.0                 </td><td>0.0                 </td><td>0.0                 </td><td>0.0                 </td><td>0.0                </td><td>0.0                </td><td>0.0                </td><td>0.0                </td><td>0.0                </td><td>0.0                </td><td>0.0                </td><td>1.0               </td><td>0.0                </td><td>0.0                </td><td>0.0                </td><td>-1.0                 </td><td>0      </td></tr>\n",
       "<tr><td>4      </td><td>C8         </td><td>2190.0            </td><td>Rented             </td><td>Individual           </td><td>44.0             </td><td>44.0              </td><td>No         </td><td>X2                </td><td>3.0                      </td><td>1.0                  </td><td>16.0              </td><td>10400.0              </td><td>0.0                 </td><td>0.0                </td><td>0.0                 </td><td>0.0                 </td><td>0.0                 </td><td>0.0                 </td><td>0.0                </td><td>0.0                 </td><td>0.0                 </td><td>0.0                 </td><td>0.0                 </td><td>0.0                </td><td>0.0                </td><td>0.0                </td><td>0.0                </td><td>1.0                </td><td>0.0                </td><td>0.0                </td><td>0.0               </td><td>0.0                </td><td>0.0                </td><td>0.0                </td><td>-1.0                 </td><td>0      </td></tr>\n",
       "<tr><td>5      </td><td>C9         </td><td>1785.0            </td><td>Rented             </td><td>Individual           </td><td>52.0             </td><td>52.0              </td><td>No         </td><td>X2                </td><td>5.0                      </td><td>1.0                  </td><td>22.0              </td><td>15264.0              </td><td>0.0                 </td><td>0.0                </td><td>0.0                 </td><td>0.0                 </td><td>0.0                 </td><td>0.0                 </td><td>0.0                </td><td>0.0                 </td><td>0.0                 </td><td>0.0                 </td><td>0.0                 </td><td>0.0                </td><td>0.0                </td><td>0.0                </td><td>0.0                </td><td>0.0                </td><td>0.0                </td><td>0.0                </td><td>0.0               </td><td>0.0                </td><td>0.0                </td><td>1.0                </td><td>-1.0                 </td><td>1      </td></tr>\n",
       "<tr><td>6      </td><td>C3         </td><td>679.0             </td><td>Owned              </td><td>Individual           </td><td>28.0             </td><td>28.0              </td><td>No         </td><td>-1                </td><td>-1.0                     </td><td>-1.0                 </td><td>17.0              </td><td>10640.0              </td><td>0.0                 </td><td>0.0                </td><td>0.0                 </td><td>0.0                 </td><td>0.0                 </td><td>0.0                 </td><td>0.0                </td><td>0.0                 </td><td>0.0                 </td><td>0.0                 </td><td>0.0                 </td><td>0.0                </td><td>0.0                </td><td>0.0                </td><td>0.0                </td><td>0.0                </td><td>1.0                </td><td>0.0                </td><td>0.0               </td><td>0.0                </td><td>0.0                </td><td>0.0                </td><td>-1.0                 </td><td>0      </td></tr>\n",
       "<tr><td>7      </td><td>C1         </td><td>3175.0            </td><td>Owned              </td><td>Joint                </td><td>75.0             </td><td>73.0              </td><td>Yes        </td><td>X4                </td><td>9.0                      </td><td>4.0                  </td><td>17.0              </td><td>29344.0              </td><td>0.0                 </td><td>0.0                </td><td>0.0                 </td><td>0.0                 </td><td>0.0                 </td><td>0.0                 </td><td>0.0                </td><td>0.0                 </td><td>0.0                 </td><td>0.0                 </td><td>0.0                 </td><td>0.0                </td><td>0.0                </td><td>0.0                </td><td>0.0                </td><td>0.0                </td><td>1.0                </td><td>0.0                </td><td>0.0               </td><td>0.0                </td><td>0.0                </td><td>0.0                </td><td>-1.0                 </td><td>1      </td></tr>\n",
       "<tr><td>8      </td><td>C15        </td><td>3497.0            </td><td>Owned              </td><td>Joint                </td><td>52.0             </td><td>43.0              </td><td>No         </td><td>X1                </td><td>14.0                     </td><td>3.0                  </td><td>1.0               </td><td>27280.0              </td><td>1.0                 </td><td>0.0                </td><td>0.0                 </td><td>0.0                 </td><td>0.0                 </td><td>0.0                 </td><td>0.0                </td><td>0.0                 </td><td>0.0                 </td><td>0.0                 </td><td>0.0                 </td><td>0.0                </td><td>0.0                </td><td>0.0                </td><td>0.0                </td><td>0.0                </td><td>0.0                </td><td>0.0                </td><td>0.0               </td><td>0.0                </td><td>0.0                </td><td>0.0                </td><td>-1.0                 </td><td>0      </td></tr>\n",
       "<tr><td>9      </td><td>C1         </td><td>530.0             </td><td>Owned              </td><td>Joint                </td><td>59.0             </td><td>26.0              </td><td>Yes        </td><td>-1                </td><td>7.0                      </td><td>4.0                  </td><td>18.0              </td><td>21104.0              </td><td>0.0                 </td><td>0.0                </td><td>0.0                 </td><td>0.0                 </td><td>0.0                 </td><td>0.0                 </td><td>0.0                </td><td>0.0                 </td><td>0.0                 </td><td>0.0                 </td><td>0.0                 </td><td>0.0                </td><td>0.0                </td><td>0.0                </td><td>0.0                </td><td>0.0                </td><td>0.0                </td><td>1.0                </td><td>0.0               </td><td>0.0                </td><td>0.0                </td><td>0.0                </td><td>-1.0                 </td><td>1      </td></tr>\n",
       "</tbody>\n",
       "</table>"
      ]
     },
     "metadata": {},
     "output_type": "display_data"
    }
   ],
   "source": [
    "X_y_train_h = h2o.H2OFrame(pd.concat([X_train, y_train], axis='columns'))\n",
    "X_y_train_h[target] = X_y_train_h[target].asfactor()\n",
    "# ^ the target column should have categorical type for classification tasks\n",
    "#   (numerical type for regression tasks)\n",
    "\n",
    "X_test_h = h2o.H2OFrame(X_test)\n",
    "\n",
    "X_y_train_h.describe()"
   ]
  },
  {
   "cell_type": "code",
   "execution_count": null,
   "metadata": {
    "papermill": {
     "duration": 0.048966,
     "end_time": "2021-03-01T04:06:40.356953",
     "exception": false,
     "start_time": "2021-03-01T04:06:40.307987",
     "status": "completed"
    },
    "tags": []
   },
   "outputs": [],
   "source": []
  },
  {
   "cell_type": "code",
   "execution_count": null,
   "metadata": {
    "papermill": {
     "duration": 0.049291,
     "end_time": "2021-03-01T04:06:40.455553",
     "exception": false,
     "start_time": "2021-03-01T04:06:40.406262",
     "status": "completed"
    },
    "tags": []
   },
   "outputs": [],
   "source": []
  },
  {
   "cell_type": "code",
   "execution_count": 23,
   "metadata": {
    "execution": {
     "iopub.execute_input": "2021-03-01T04:06:40.567626Z",
     "iopub.status.busy": "2021-03-01T04:06:40.566930Z",
     "iopub.status.idle": "2021-03-01T04:06:41.288285Z",
     "shell.execute_reply": "2021-03-01T04:06:41.287547Z"
    },
    "papermill": {
     "duration": 0.7823,
     "end_time": "2021-03-01T04:06:41.288438",
     "exception": false,
     "start_time": "2021-03-01T04:06:40.506138",
     "status": "completed"
    },
    "tags": []
   },
   "outputs": [],
   "source": [
    "!mkdir h20_models"
   ]
  },
  {
   "cell_type": "code",
   "execution_count": 24,
   "metadata": {
    "execution": {
     "iopub.execute_input": "2021-03-01T04:06:41.392971Z",
     "iopub.status.busy": "2021-03-01T04:06:41.392313Z",
     "iopub.status.idle": "2021-03-01T04:06:42.132481Z",
     "shell.execute_reply": "2021-03-01T04:06:42.132971Z"
    },
    "papermill": {
     "duration": 0.794779,
     "end_time": "2021-03-01T04:06:42.133207",
     "exception": false,
     "start_time": "2021-03-01T04:06:41.338428",
     "status": "completed"
    },
    "tags": []
   },
   "outputs": [
    {
     "name": "stdout",
     "output_type": "stream",
     "text": [
      "__notebook__.ipynb  h20_models\r\n"
     ]
    }
   ],
   "source": [
    "!ls"
   ]
  },
  {
   "cell_type": "code",
   "execution_count": 25,
   "metadata": {
    "execution": {
     "iopub.execute_input": "2021-03-01T04:06:42.236921Z",
     "iopub.status.busy": "2021-03-01T04:06:42.236249Z",
     "iopub.status.idle": "2021-03-01T04:06:42.298413Z",
     "shell.execute_reply": "2021-03-01T04:06:42.299281Z"
    },
    "papermill": {
     "duration": 0.11662,
     "end_time": "2021-03-01T04:06:42.299543",
     "exception": false,
     "start_time": "2021-03-01T04:06:42.182923",
     "status": "completed"
    },
    "tags": []
   },
   "outputs": [],
   "source": [
    "aml = H2OAutoML(\n",
    "    max_runtime_secs=(60* 3),  # 3 mins\n",
    "    max_models=None,  # no limit\n",
    "    seed=17\n",
    ")"
   ]
  },
  {
   "cell_type": "code",
   "execution_count": 26,
   "metadata": {
    "execution": {
     "iopub.execute_input": "2021-03-01T04:06:42.430077Z",
     "iopub.status.busy": "2021-03-01T04:06:42.429389Z",
     "iopub.status.idle": "2021-03-01T04:09:56.428416Z",
     "shell.execute_reply": "2021-03-01T04:09:56.427533Z"
    },
    "papermill": {
     "duration": 194.052797,
     "end_time": "2021-03-01T04:09:56.428665",
     "exception": false,
     "start_time": "2021-03-01T04:06:42.375868",
     "status": "completed"
    },
    "tags": []
   },
   "outputs": [
    {
     "name": "stdout",
     "output_type": "stream",
     "text": [
      "AutoML progress: |████████████████████████████████████████████████████████| 100%\n",
      "Export File progress: |███████████████████████████████████████████████████| 100%\n",
      "CPU times: user 26.4 s, sys: 647 ms, total: 27 s\n",
      "Wall time: 3min 13s\n"
     ]
    }
   ],
   "source": [
    "%%time\n",
    "\n",
    "aml.train(\n",
    "    x=feature_cols+cat_cols,\n",
    "    y='label',\n",
    "    training_frame=X_y_train_h\n",
    ")\n",
    "\n",
    "lb = aml.leaderboard\n",
    "model_ids = list(lb['model_id'].as_data_frame().iloc[:,0])\n",
    "out_path = \"h20_models\"\n",
    "\n",
    "for m_id in model_ids:\n",
    "    mdl = h2o.get_model(m_id)\n",
    "    h2o.save_model(model=mdl, path=out_path, force=True)\n",
    "\n",
    "h2o.export_file(lb, os.path.join(out_path, 'aml_leaderboard.h2o'), force=True)"
   ]
  },
  {
   "cell_type": "code",
   "execution_count": 27,
   "metadata": {
    "execution": {
     "iopub.execute_input": "2021-03-01T04:09:56.597471Z",
     "iopub.status.busy": "2021-03-01T04:09:56.596828Z",
     "iopub.status.idle": "2021-03-01T04:09:57.339615Z",
     "shell.execute_reply": "2021-03-01T04:09:57.340087Z"
    },
    "papermill": {
     "duration": 0.814106,
     "end_time": "2021-03-01T04:09:57.340309",
     "exception": false,
     "start_time": "2021-03-01T04:09:56.526203",
     "status": "completed"
    },
    "tags": []
   },
   "outputs": [
    {
     "name": "stdout",
     "output_type": "stream",
     "text": [
      "__notebook__.ipynb  h20_models\r\n"
     ]
    }
   ],
   "source": [
    "!ls"
   ]
  },
  {
   "cell_type": "code",
   "execution_count": 28,
   "metadata": {
    "execution": {
     "iopub.execute_input": "2021-03-01T04:09:57.485178Z",
     "iopub.status.busy": "2021-03-01T04:09:57.484503Z",
     "iopub.status.idle": "2021-03-01T04:09:57.851628Z",
     "shell.execute_reply": "2021-03-01T04:09:57.850768Z"
    },
    "papermill": {
     "duration": 0.443539,
     "end_time": "2021-03-01T04:09:57.851855",
     "exception": false,
     "start_time": "2021-03-01T04:09:57.408316",
     "status": "completed"
    },
    "tags": []
   },
   "outputs": [
    {
     "name": "stdout",
     "output_type": "stream",
     "text": [
      "Parse progress: |█████████████████████████████████████████████████████████| 100%\n"
     ]
    },
    {
     "data": {
      "text/html": [
       "<table>\n",
       "<thead>\n",
       "<tr><th>model_id                                           </th><th style=\"text-align: right;\">     auc</th><th style=\"text-align: right;\">  logloss</th><th style=\"text-align: right;\">   aucpr</th><th style=\"text-align: right;\">  mean_per_class_error</th><th style=\"text-align: right;\">    rmse</th><th style=\"text-align: right;\">     mse</th></tr>\n",
       "</thead>\n",
       "<tbody>\n",
       "<tr><td>StackedEnsemble_AllModels_AutoML_20210301_040642   </td><td style=\"text-align: right;\">0.690324</td><td style=\"text-align: right;\"> 0.509391</td><td style=\"text-align: right;\">0.407775</td><td style=\"text-align: right;\">              0.370287</td><td style=\"text-align: right;\">0.409349</td><td style=\"text-align: right;\">0.167566</td></tr>\n",
       "<tr><td>StackedEnsemble_BestOfFamily_AutoML_20210301_040642</td><td style=\"text-align: right;\">0.685695</td><td style=\"text-align: right;\"> 0.510996</td><td style=\"text-align: right;\">0.405054</td><td style=\"text-align: right;\">              0.372912</td><td style=\"text-align: right;\">0.410012</td><td style=\"text-align: right;\">0.16811 </td></tr>\n",
       "<tr><td>GBM_grid__1_AutoML_20210301_040642_model_1         </td><td style=\"text-align: right;\">0.676132</td><td style=\"text-align: right;\"> 0.512388</td><td style=\"text-align: right;\">0.398041</td><td style=\"text-align: right;\">              0.382059</td><td style=\"text-align: right;\">0.411065</td><td style=\"text-align: right;\">0.168974</td></tr>\n",
       "<tr><td>XGBoost_grid__1_AutoML_20210301_040642_model_2     </td><td style=\"text-align: right;\">0.670844</td><td style=\"text-align: right;\"> 0.515267</td><td style=\"text-align: right;\">0.384218</td><td style=\"text-align: right;\">              0.382   </td><td style=\"text-align: right;\">0.412839</td><td style=\"text-align: right;\">0.170436</td></tr>\n",
       "<tr><td>XGBoost_grid__1_AutoML_20210301_040642_model_1     </td><td style=\"text-align: right;\">0.66965 </td><td style=\"text-align: right;\"> 0.517795</td><td style=\"text-align: right;\">0.380826</td><td style=\"text-align: right;\">              0.383861</td><td style=\"text-align: right;\">0.414081</td><td style=\"text-align: right;\">0.171463</td></tr>\n",
       "<tr><td>GBM_5_AutoML_20210301_040642                       </td><td style=\"text-align: right;\">0.667254</td><td style=\"text-align: right;\"> 0.533148</td><td style=\"text-align: right;\">0.380241</td><td style=\"text-align: right;\">              0.38897 </td><td style=\"text-align: right;\">0.419274</td><td style=\"text-align: right;\">0.175791</td></tr>\n",
       "<tr><td>GBM_grid__1_AutoML_20210301_040642_model_2         </td><td style=\"text-align: right;\">0.658477</td><td style=\"text-align: right;\"> 0.525069</td><td style=\"text-align: right;\">0.373837</td><td style=\"text-align: right;\">              0.392106</td><td style=\"text-align: right;\">0.415758</td><td style=\"text-align: right;\">0.172855</td></tr>\n",
       "<tr><td>GBM_3_AutoML_20210301_040642                       </td><td style=\"text-align: right;\">0.655723</td><td style=\"text-align: right;\"> 0.532094</td><td style=\"text-align: right;\">0.377601</td><td style=\"text-align: right;\">              0.39845 </td><td style=\"text-align: right;\">0.418794</td><td style=\"text-align: right;\">0.175389</td></tr>\n",
       "<tr><td>GBM_4_AutoML_20210301_040642                       </td><td style=\"text-align: right;\">0.654477</td><td style=\"text-align: right;\"> 0.532204</td><td style=\"text-align: right;\">0.376455</td><td style=\"text-align: right;\">              0.408351</td><td style=\"text-align: right;\">0.418762</td><td style=\"text-align: right;\">0.175362</td></tr>\n",
       "<tr><td>GBM_2_AutoML_20210301_040642                       </td><td style=\"text-align: right;\">0.642136</td><td style=\"text-align: right;\"> 0.535295</td><td style=\"text-align: right;\">0.364921</td><td style=\"text-align: right;\">              0.416248</td><td style=\"text-align: right;\">0.420285</td><td style=\"text-align: right;\">0.17664 </td></tr>\n",
       "</tbody>\n",
       "</table>"
      ]
     },
     "metadata": {},
     "output_type": "display_data"
    },
    {
     "data": {
      "text/plain": []
     },
     "execution_count": 28,
     "metadata": {},
     "output_type": "execute_result"
    }
   ],
   "source": [
    "\n",
    "models_path = \"../working/h20_models/\"\n",
    "\n",
    "lb = h2o.import_file(path=os.path.join(models_path, \"aml_leaderboard.h2o\"))\n",
    "\n",
    "lb.head(rows=10)\n",
    "#lb.head(rows=lb.nrows)\n",
    "# ^ to see the entire leaderboard"
   ]
  },
  {
   "cell_type": "code",
   "execution_count": 29,
   "metadata": {
    "execution": {
     "iopub.execute_input": "2021-03-01T04:09:58.042871Z",
     "iopub.status.busy": "2021-03-01T04:09:58.040514Z",
     "iopub.status.idle": "2021-03-01T04:09:58.419439Z",
     "shell.execute_reply": "2021-03-01T04:09:58.420297Z"
    },
    "papermill": {
     "duration": 0.491879,
     "end_time": "2021-03-01T04:09:58.420564",
     "exception": false,
     "start_time": "2021-03-01T04:09:57.928685",
     "status": "completed"
    },
    "tags": []
   },
   "outputs": [],
   "source": [
    "se_all = h2o.load_model(os.path.join(models_path, str(lb['model_id'].get_frame_data().split('\\n')[1][1:-1])))\n",
    "# Get the Stacked Ensemble metalearner model\n",
    "\n",
    "\n",
    "\n",
    "# metalearner = h2o.get_model(se_all.metalearner()['name'])\n",
    "metalearner = h2o.get_model(se_all.metalearner().model_id)"
   ]
  },
  {
   "cell_type": "code",
   "execution_count": 30,
   "metadata": {
    "execution": {
     "iopub.execute_input": "2021-03-01T04:09:58.611096Z",
     "iopub.status.busy": "2021-03-01T04:09:58.591249Z",
     "iopub.status.idle": "2021-03-01T04:09:59.017716Z",
     "shell.execute_reply": "2021-03-01T04:09:59.017034Z"
    },
    "papermill": {
     "duration": 0.520012,
     "end_time": "2021-03-01T04:09:59.017861",
     "exception": false,
     "start_time": "2021-03-01T04:09:58.497849",
     "status": "completed"
    },
    "tags": []
   },
   "outputs": [
    {
     "data": {
      "image/png": "[encoded data removed]",
      "text/plain": [
       "<Figure size 1008x720 with 1 Axes>"
      ]
     },
     "metadata": {
      "needs_background": "light"
     },
     "output_type": "display_data"
    }
   ],
   "source": [
    "%matplotlib inline\n",
    "metalearner.std_coef_plot(num_of_features=20)\n",
    "# ^ all importance values starting from the 16th are zero\n",
    "\n",
    "#metalearner.coef_norm()\n",
    "# ^ to see the table in the text form"
   ]
  },
  {
   "cell_type": "code",
   "execution_count": 31,
   "metadata": {
    "execution": {
     "iopub.execute_input": "2021-03-01T04:09:59.168129Z",
     "iopub.status.busy": "2021-03-01T04:09:59.167174Z",
     "iopub.status.idle": "2021-03-01T04:09:59.172331Z",
     "shell.execute_reply": "2021-03-01T04:09:59.172821Z"
    },
    "papermill": {
     "duration": 0.082704,
     "end_time": "2021-03-01T04:09:59.172993",
     "exception": false,
     "start_time": "2021-03-01T04:09:59.090289",
     "status": "completed"
    },
    "tags": []
   },
   "outputs": [
    {
     "data": {
      "text/html": [
       "./<br>\n",
       "&nbsp;&nbsp;<a href='./__notebook__.ipynb' target='_blank'>__notebook__.ipynb</a><br>\n",
       "./h20_models/<br>\n",
       "&nbsp;&nbsp;<a href='./h20_models/XRT_1_AutoML_20210301_040642' target='_blank'>XRT_1_AutoML_20210301_040642</a><br>\n",
       "&nbsp;&nbsp;<a href='./h20_models/aml_leaderboard.h2o' target='_blank'>aml_leaderboard.h2o</a><br>\n",
       "&nbsp;&nbsp;<a href='./h20_models/GBM_grid__1_AutoML_20210301_040642_model_1' target='_blank'>GBM_grid__1_AutoML_20210301_040642_model_1</a><br>\n",
       "&nbsp;&nbsp;<a href='./h20_models/XGBoost_grid__1_AutoML_20210301_040642_model_2' target='_blank'>XGBoost_grid__1_AutoML_20210301_040642_model_2</a><br>\n",
       "&nbsp;&nbsp;<a href='./h20_models/DeepLearning_1_AutoML_20210301_040642' target='_blank'>DeepLearning_1_AutoML_20210301_040642</a><br>\n",
       "&nbsp;&nbsp;<a href='./h20_models/XGBoost_3_AutoML_20210301_040642' target='_blank'>XGBoost_3_AutoML_20210301_040642</a><br>\n",
       "&nbsp;&nbsp;<a href='./h20_models/DRF_1_AutoML_20210301_040642' target='_blank'>DRF_1_AutoML_20210301_040642</a><br>\n",
       "&nbsp;&nbsp;<a href='./h20_models/GBM_1_AutoML_20210301_040642' target='_blank'>GBM_1_AutoML_20210301_040642</a><br>\n",
       "&nbsp;&nbsp;<a href='./h20_models/XGBoost_1_AutoML_20210301_040642' target='_blank'>XGBoost_1_AutoML_20210301_040642</a><br>\n",
       "&nbsp;&nbsp;<a href='./h20_models/GBM_grid__1_AutoML_20210301_040642_model_2' target='_blank'>GBM_grid__1_AutoML_20210301_040642_model_2</a><br>\n",
       "&nbsp;&nbsp;<a href='./h20_models/DeepLearning_grid__1_AutoML_20210301_040642_model_1' target='_blank'>DeepLearning_grid__1_AutoML_20210301_040642_model_1</a><br>\n",
       "&nbsp;&nbsp;<a href='./h20_models/GBM_5_AutoML_20210301_040642' target='_blank'>GBM_5_AutoML_20210301_040642</a><br>\n",
       "&nbsp;&nbsp;<a href='./h20_models/StackedEnsemble_AllModels_AutoML_20210301_040642' target='_blank'>StackedEnsemble_AllModels_AutoML_20210301_040642</a><br>\n",
       "&nbsp;&nbsp;<a href='./h20_models/GLM_1_AutoML_20210301_040642' target='_blank'>GLM_1_AutoML_20210301_040642</a><br>\n",
       "&nbsp;&nbsp;<a href='./h20_models/GBM_grid__1_AutoML_20210301_040642_model_3' target='_blank'>GBM_grid__1_AutoML_20210301_040642_model_3</a><br>\n",
       "&nbsp;&nbsp;<a href='./h20_models/GBM_2_AutoML_20210301_040642' target='_blank'>GBM_2_AutoML_20210301_040642</a><br>\n",
       "&nbsp;&nbsp;<a href='./h20_models/GBM_4_AutoML_20210301_040642' target='_blank'>GBM_4_AutoML_20210301_040642</a><br>\n",
       "&nbsp;&nbsp;<a href='./h20_models/XGBoost_grid__1_AutoML_20210301_040642_model_1' target='_blank'>XGBoost_grid__1_AutoML_20210301_040642_model_1</a><br>\n",
       "&nbsp;&nbsp;<a href='./h20_models/XGBoost_2_AutoML_20210301_040642' target='_blank'>XGBoost_2_AutoML_20210301_040642</a><br>\n",
       "&nbsp;&nbsp;<a href='./h20_models/GBM_3_AutoML_20210301_040642' target='_blank'>GBM_3_AutoML_20210301_040642</a><br>\n",
       "&nbsp;&nbsp;<a href='./h20_models/StackedEnsemble_BestOfFamily_AutoML_20210301_040642' target='_blank'>StackedEnsemble_BestOfFamily_AutoML_20210301_040642</a><br>"
      ],
      "text/plain": [
       "./\n",
       "  __notebook__.ipynb\n",
       "./h20_models/\n",
       "  XRT_1_AutoML_20210301_040642\n",
       "  aml_leaderboard.h2o\n",
       "  GBM_grid__1_AutoML_20210301_040642_model_1\n",
       "  XGBoost_grid__1_AutoML_20210301_040642_model_2\n",
       "  DeepLearning_1_AutoML_20210301_040642\n",
       "  XGBoost_3_AutoML_20210301_040642\n",
       "  DRF_1_AutoML_20210301_040642\n",
       "  GBM_1_AutoML_20210301_040642\n",
       "  XGBoost_1_AutoML_20210301_040642\n",
       "  GBM_grid__1_AutoML_20210301_040642_model_2\n",
       "  DeepLearning_grid__1_AutoML_20210301_040642_model_1\n",
       "  GBM_5_AutoML_20210301_040642\n",
       "  StackedEnsemble_AllModels_AutoML_20210301_040642\n",
       "  GLM_1_AutoML_20210301_040642\n",
       "  GBM_grid__1_AutoML_20210301_040642_model_3\n",
       "  GBM_2_AutoML_20210301_040642\n",
       "  GBM_4_AutoML_20210301_040642\n",
       "  XGBoost_grid__1_AutoML_20210301_040642_model_1\n",
       "  XGBoost_2_AutoML_20210301_040642\n",
       "  GBM_3_AutoML_20210301_040642\n",
       "  StackedEnsemble_BestOfFamily_AutoML_20210301_040642"
      ]
     },
     "execution_count": 31,
     "metadata": {},
     "output_type": "execute_result"
    }
   ],
   "source": [
    "from IPython.display import FileLinks\n",
    "\n",
    "FileLinks('.')"
   ]
  },
  {
   "cell_type": "code",
   "execution_count": 32,
   "metadata": {
    "execution": {
     "iopub.execute_input": "2021-03-01T04:09:59.321088Z",
     "iopub.status.busy": "2021-03-01T04:09:59.320443Z",
     "iopub.status.idle": "2021-03-01T04:09:59.325866Z",
     "shell.execute_reply": "2021-03-01T04:09:59.326353Z"
    },
    "papermill": {
     "duration": 0.081189,
     "end_time": "2021-03-01T04:09:59.326540",
     "exception": false,
     "start_time": "2021-03-01T04:09:59.245351",
     "status": "completed"
    },
    "tags": []
   },
   "outputs": [
    {
     "data": {
      "text/plain": [
       "0.6909156967972314"
      ]
     },
     "execution_count": 32,
     "metadata": {},
     "output_type": "execute_result"
    }
   ],
   "source": [
    "metalearner.auc()"
   ]
  },
  {
   "cell_type": "code",
   "execution_count": 33,
   "metadata": {
    "execution": {
     "iopub.execute_input": "2021-03-01T04:09:59.477175Z",
     "iopub.status.busy": "2021-03-01T04:09:59.476197Z",
     "iopub.status.idle": "2021-03-01T04:09:59.479259Z",
     "shell.execute_reply": "2021-03-01T04:09:59.478601Z"
    },
    "papermill": {
     "duration": 0.080163,
     "end_time": "2021-03-01T04:09:59.479408",
     "exception": false,
     "start_time": "2021-03-01T04:09:59.399245",
     "status": "completed"
    },
    "tags": []
   },
   "outputs": [],
   "source": [
    "X_test_h['label'] = 0"
   ]
  },
  {
   "cell_type": "code",
   "execution_count": 34,
   "metadata": {
    "execution": {
     "iopub.execute_input": "2021-03-01T04:09:59.658190Z",
     "iopub.status.busy": "2021-03-01T04:09:59.657508Z",
     "iopub.status.idle": "2021-03-01T04:10:00.028757Z",
     "shell.execute_reply": "2021-03-01T04:10:00.027880Z"
    },
    "papermill": {
     "duration": 0.475978,
     "end_time": "2021-03-01T04:10:00.028983",
     "exception": false,
     "start_time": "2021-03-01T04:09:59.553005",
     "status": "completed"
    },
    "tags": []
   },
   "outputs": [
    {
     "name": "stdout",
     "output_type": "stream",
     "text": [
      "glm prediction progress: |████████████████████████████████████████████████| 100%\n"
     ]
    }
   ],
   "source": [
    "y_pred = metalearner.predict(X_test_h)['p1']\n",
    "y_pred = y_pred.as_data_frame()"
   ]
  },
  {
   "cell_type": "code",
   "execution_count": null,
   "metadata": {
    "papermill": {
     "duration": 0.07438,
     "end_time": "2021-03-01T04:10:00.189463",
     "exception": false,
     "start_time": "2021-03-01T04:10:00.115083",
     "status": "completed"
    },
    "tags": []
   },
   "outputs": [],
   "source": []
  },
  {
   "cell_type": "code",
   "execution_count": null,
   "metadata": {
    "papermill": {
     "duration": 0.073601,
     "end_time": "2021-03-01T04:10:00.336420",
     "exception": false,
     "start_time": "2021-03-01T04:10:00.262819",
     "status": "completed"
    },
    "tags": []
   },
   "outputs": [],
   "source": []
  },
  {
   "cell_type": "code",
   "execution_count": 35,
   "metadata": {
    "execution": {
     "iopub.execute_input": "2021-03-01T04:10:00.486394Z",
     "iopub.status.busy": "2021-03-01T04:10:00.485774Z",
     "iopub.status.idle": "2021-03-01T04:10:00.577605Z",
     "shell.execute_reply": "2021-03-01T04:10:00.578217Z"
    },
    "papermill": {
     "duration": 0.168707,
     "end_time": "2021-03-01T04:10:00.578403",
     "exception": false,
     "start_time": "2021-03-01T04:10:00.409696",
     "status": "completed"
    },
    "tags": []
   },
   "outputs": [
    {
     "data": {
      "text/html": [
       "<div>\n",
       "<style scoped>\n",
       "    .dataframe tbody tr th:only-of-type {\n",
       "        vertical-align: middle;\n",
       "    }\n",
       "\n",
       "    .dataframe tbody tr th {\n",
       "        vertical-align: top;\n",
       "    }\n",
       "\n",
       "    .dataframe thead th {\n",
       "        text-align: right;\n",
       "    }\n",
       "</style>\n",
       "<table border=\"1\" class=\"dataframe\">\n",
       "  <thead>\n",
       "    <tr style=\"text-align: right;\">\n",
       "      <th></th>\n",
       "      <th>ID</th>\n",
       "      <th>Response</th>\n",
       "    </tr>\n",
       "  </thead>\n",
       "  <tbody>\n",
       "    <tr>\n",
       "      <th>0</th>\n",
       "      <td>50883</td>\n",
       "      <td>0.222474</td>\n",
       "    </tr>\n",
       "    <tr>\n",
       "      <th>1</th>\n",
       "      <td>50884</td>\n",
       "      <td>0.222474</td>\n",
       "    </tr>\n",
       "    <tr>\n",
       "      <th>2</th>\n",
       "      <td>50885</td>\n",
       "      <td>0.222474</td>\n",
       "    </tr>\n",
       "    <tr>\n",
       "      <th>3</th>\n",
       "      <td>50886</td>\n",
       "      <td>0.222474</td>\n",
       "    </tr>\n",
       "    <tr>\n",
       "      <th>4</th>\n",
       "      <td>50887</td>\n",
       "      <td>0.222474</td>\n",
       "    </tr>\n",
       "  </tbody>\n",
       "</table>\n",
       "</div>"
      ],
      "text/plain": [
       "      ID  Response\n",
       "0  50883  0.222474\n",
       "1  50884  0.222474\n",
       "2  50885  0.222474\n",
       "3  50886  0.222474\n",
       "4  50887  0.222474"
      ]
     },
     "execution_count": 35,
     "metadata": {},
     "output_type": "execute_result"
    }
   ],
   "source": [
    "sub['Response'] = y_pred\n",
    "sub.to_csv('sub_job_a_thon.csv', index=False)\n",
    "sub.head()"
   ]
  },
  {
   "cell_type": "code",
   "execution_count": 36,
   "metadata": {
    "execution": {
     "iopub.execute_input": "2021-03-01T04:10:00.729941Z",
     "iopub.status.busy": "2021-03-01T04:10:00.729342Z",
     "iopub.status.idle": "2021-03-01T04:10:00.734881Z",
     "shell.execute_reply": "2021-03-01T04:10:00.735536Z"
    },
    "papermill": {
     "duration": 0.08292,
     "end_time": "2021-03-01T04:10:00.735736",
     "exception": false,
     "start_time": "2021-03-01T04:10:00.652816",
     "status": "completed"
    },
    "tags": []
   },
   "outputs": [
    {
     "data": {
      "text/html": [
       "./<br>\n",
       "&nbsp;&nbsp;<a href='./__notebook__.ipynb' target='_blank'>__notebook__.ipynb</a><br>\n",
       "&nbsp;&nbsp;<a href='./sub_job_a_thon.csv' target='_blank'>sub_job_a_thon.csv</a><br>\n",
       "./h20_models/<br>\n",
       "&nbsp;&nbsp;<a href='./h20_models/XRT_1_AutoML_20210301_040642' target='_blank'>XRT_1_AutoML_20210301_040642</a><br>\n",
       "&nbsp;&nbsp;<a href='./h20_models/aml_leaderboard.h2o' target='_blank'>aml_leaderboard.h2o</a><br>\n",
       "&nbsp;&nbsp;<a href='./h20_models/GBM_grid__1_AutoML_20210301_040642_model_1' target='_blank'>GBM_grid__1_AutoML_20210301_040642_model_1</a><br>\n",
       "&nbsp;&nbsp;<a href='./h20_models/XGBoost_grid__1_AutoML_20210301_040642_model_2' target='_blank'>XGBoost_grid__1_AutoML_20210301_040642_model_2</a><br>\n",
       "&nbsp;&nbsp;<a href='./h20_models/DeepLearning_1_AutoML_20210301_040642' target='_blank'>DeepLearning_1_AutoML_20210301_040642</a><br>\n",
       "&nbsp;&nbsp;<a href='./h20_models/XGBoost_3_AutoML_20210301_040642' target='_blank'>XGBoost_3_AutoML_20210301_040642</a><br>\n",
       "&nbsp;&nbsp;<a href='./h20_models/DRF_1_AutoML_20210301_040642' target='_blank'>DRF_1_AutoML_20210301_040642</a><br>\n",
       "&nbsp;&nbsp;<a href='./h20_models/GBM_1_AutoML_20210301_040642' target='_blank'>GBM_1_AutoML_20210301_040642</a><br>\n",
       "&nbsp;&nbsp;<a href='./h20_models/XGBoost_1_AutoML_20210301_040642' target='_blank'>XGBoost_1_AutoML_20210301_040642</a><br>\n",
       "&nbsp;&nbsp;<a href='./h20_models/GBM_grid__1_AutoML_20210301_040642_model_2' target='_blank'>GBM_grid__1_AutoML_20210301_040642_model_2</a><br>\n",
       "&nbsp;&nbsp;<a href='./h20_models/DeepLearning_grid__1_AutoML_20210301_040642_model_1' target='_blank'>DeepLearning_grid__1_AutoML_20210301_040642_model_1</a><br>\n",
       "&nbsp;&nbsp;<a href='./h20_models/GBM_5_AutoML_20210301_040642' target='_blank'>GBM_5_AutoML_20210301_040642</a><br>\n",
       "&nbsp;&nbsp;<a href='./h20_models/StackedEnsemble_AllModels_AutoML_20210301_040642' target='_blank'>StackedEnsemble_AllModels_AutoML_20210301_040642</a><br>\n",
       "&nbsp;&nbsp;<a href='./h20_models/GLM_1_AutoML_20210301_040642' target='_blank'>GLM_1_AutoML_20210301_040642</a><br>\n",
       "&nbsp;&nbsp;<a href='./h20_models/GBM_grid__1_AutoML_20210301_040642_model_3' target='_blank'>GBM_grid__1_AutoML_20210301_040642_model_3</a><br>\n",
       "&nbsp;&nbsp;<a href='./h20_models/GBM_2_AutoML_20210301_040642' target='_blank'>GBM_2_AutoML_20210301_040642</a><br>\n",
       "&nbsp;&nbsp;<a href='./h20_models/GBM_4_AutoML_20210301_040642' target='_blank'>GBM_4_AutoML_20210301_040642</a><br>\n",
       "&nbsp;&nbsp;<a href='./h20_models/XGBoost_grid__1_AutoML_20210301_040642_model_1' target='_blank'>XGBoost_grid__1_AutoML_20210301_040642_model_1</a><br>\n",
       "&nbsp;&nbsp;<a href='./h20_models/XGBoost_2_AutoML_20210301_040642' target='_blank'>XGBoost_2_AutoML_20210301_040642</a><br>\n",
       "&nbsp;&nbsp;<a href='./h20_models/GBM_3_AutoML_20210301_040642' target='_blank'>GBM_3_AutoML_20210301_040642</a><br>\n",
       "&nbsp;&nbsp;<a href='./h20_models/StackedEnsemble_BestOfFamily_AutoML_20210301_040642' target='_blank'>StackedEnsemble_BestOfFamily_AutoML_20210301_040642</a><br>"
      ],
      "text/plain": [
       "./\n",
       "  __notebook__.ipynb\n",
       "  sub_job_a_thon.csv\n",
       "./h20_models/\n",
       "  XRT_1_AutoML_20210301_040642\n",
       "  aml_leaderboard.h2o\n",
       "  GBM_grid__1_AutoML_20210301_040642_model_1\n",
       "  XGBoost_grid__1_AutoML_20210301_040642_model_2\n",
       "  DeepLearning_1_AutoML_20210301_040642\n",
       "  XGBoost_3_AutoML_20210301_040642\n",
       "  DRF_1_AutoML_20210301_040642\n",
       "  GBM_1_AutoML_20210301_040642\n",
       "  XGBoost_1_AutoML_20210301_040642\n",
       "  GBM_grid__1_AutoML_20210301_040642_model_2\n",
       "  DeepLearning_grid__1_AutoML_20210301_040642_model_1\n",
       "  GBM_5_AutoML_20210301_040642\n",
       "  StackedEnsemble_AllModels_AutoML_20210301_040642\n",
       "  GLM_1_AutoML_20210301_040642\n",
       "  GBM_grid__1_AutoML_20210301_040642_model_3\n",
       "  GBM_2_AutoML_20210301_040642\n",
       "  GBM_4_AutoML_20210301_040642\n",
       "  XGBoost_grid__1_AutoML_20210301_040642_model_1\n",
       "  XGBoost_2_AutoML_20210301_040642\n",
       "  GBM_3_AutoML_20210301_040642\n",
       "  StackedEnsemble_BestOfFamily_AutoML_20210301_040642"
      ]
     },
     "execution_count": 36,
     "metadata": {},
     "output_type": "execute_result"
    }
   ],
   "source": [
    "from IPython.display import FileLinks\n",
    "FileLinks('.')"
   ]
  },
  {
   "cell_type": "code",
   "execution_count": null,
   "metadata": {
    "papermill": {
     "duration": 0.074334,
     "end_time": "2021-03-01T04:10:00.884494",
     "exception": false,
     "start_time": "2021-03-01T04:10:00.810160",
     "status": "completed"
    },
    "tags": []
   },
   "outputs": [],
   "source": []
  }
 ],
 "metadata": {
  "kernelspec": {
   "display_name": "Python 3",
   "language": "python",
   "name": "python3"
  },
  "language_info": {
   "codemirror_mode": {
    "name": "ipython",
    "version": 3
   },
   "file_extension": ".py",
   "mimetype": "text/x-python",
   "name": "python",
   "nbconvert_exporter": "python",
   "pygments_lexer": "ipython3",
   "version": "3.7.9"
  },
  "papermill": {
   "default_parameters": {},
   "duration": 280.80231,
   "end_time": "2021-03-01T04:10:02.472391",
   "environment_variables": {},
   "exception": null,
   "input_path": "__notebook__.ipynb",
   "output_path": "__notebook__.ipynb",
   "parameters": {},
   "start_time": "2021-03-01T04:05:21.670081",
   "version": "2.2.2"
  }
 },
 "nbformat": 4,
 "nbformat_minor": 4
}
